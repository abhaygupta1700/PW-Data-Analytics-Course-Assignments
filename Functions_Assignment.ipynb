{
  "nbformat": 4,
  "nbformat_minor": 0,
  "metadata": {
    "colab": {
      "provenance": []
    },
    "kernelspec": {
      "name": "python3",
      "display_name": "Python 3"
    },
    "language_info": {
      "name": "python"
    }
  },
  "cells": [
    {
      "cell_type": "markdown",
      "source": [
        "Functions Assignment :-\n",
        "\n",
        "Theory Questions Answer:-\n",
        "\n",
        "Question-1 :-  What is the difference between a function and a method in Python?\n",
        "Answer-1 :- Function :- A function is a block of code that performs a task. It is defined using def outside of a class and can be called directly.\n",
        "\n",
        "example:-\n",
        "def add(a, b):\n",
        "    return a + b\n",
        "\n",
        "print(add(2, 3))\n",
        "\n",
        "Method:- A method is also a function, but it is written inside a class and works with the objects of that class. It is called using the object.\n",
        "\n",
        "example:-\n",
        "class Calculator:\n",
        "    def add(self, a, b):\n",
        "        return a + b\n",
        "\n",
        "calc = Calculator()\n",
        "print(calc.add(2, 3))   \n",
        "\n",
        "- A function is independent, while a method belongs to an object of a class.\n",
        "\n",
        "Question-2 :- Explain the concept of function arguments and parameters in Python?\n",
        "Answer-2 :-\n",
        " - Parameters are the names used in the function definition to accept values.\n",
        "\n",
        " - Arguments are the actual values we pass when we call the function.\n",
        "\n",
        "example :-\n",
        "def greet(name):       # 'name' is a parameter\n",
        "    print(\"Hello\", name)\n",
        "\n",
        "greet(\"Abhay\")         # \"Abhay\" is an argument\n",
        "\n",
        "Question-3 :- What are the different ways to define and call a function in Python?\n",
        "Answer-3 :-In Python, we can define and call functions in different ways:\n",
        "\n",
        "1. Simple function :- Defined using def and called by its name.\n",
        "\n",
        "example :-\n",
        "def greet():\n",
        "    print(\"Hello\")\n",
        "greet()   # calling the function\n",
        "\n",
        "2. Function with parameters :- Takes input values (parameters).\n",
        "\n",
        "example:-\n",
        "def greet(name):\n",
        "    print(\"Hello\", name)\n",
        "greet(\"Abhay\")   # calling with an argument\n",
        "\n",
        "3. Function with return value :- Returns a result using return.\n",
        "\n",
        "example:-\n",
        "def add(a, b):\n",
        "    return a + b\n",
        "print(add(2, 3))   # prints 5\n",
        "\n",
        "4. Function with default parameter :- Uses a default value if no argument is given.\n",
        "example:-\n",
        "def greet(name=\"User\"):\n",
        "    print(\"Hello\", name)\n",
        "greet()          # uses default → \"Hello User\"\n",
        "greet(\"Abhay\")   # uses given value\n",
        "\n",
        "5. Function with variable arguments :- Accepts many values using *args or **kwargs.\n",
        "example :-\n",
        "def show(*args):\n",
        "    print(args)\n",
        "show(1, 2, 3)   # prints (1, 2, 3)\n",
        "\n",
        "Question-4 :-  What is the purpose of the `return` statement in a Python function?\n",
        "Answer-4 :- The return statement in Python is used to send a value from a function back to the caller.\n",
        "It ends the function's execution and gives back the result.\n",
        "example :-\n",
        "def add(a, b):\n",
        "    return a + b   # return the sum\n",
        "\n",
        "result = add(5, 3)\n",
        "print(result)      # Output: 8\n",
        "\n",
        "Question-5 :- What are iterators in Python and how do they differ from iterables?\n",
        "Answer-5 :-\n",
        "1. Iterable: An object that can be looped over (like list, tuple, string). It gives an iterator when used with iter().\n",
        " - An iterable is like a collection of items\n",
        "2. Iterator: An object that produces elements one at a time using the __next__() method (or next() function).\n",
        " - An iterator is like a pointer that goes through the items one by one\n",
        "\n",
        "Question-6 :-  Explain the concept of generators in Python and how they are defined?\n",
        "Answer-6 :- Generator:-\n",
        "  - A generator in Python is a special type of function that produces values one at a time instead of returning them all at once.\n",
        "\n",
        "  - They are useful when working with large data because they save memory.\n",
        "\n",
        "  - Generators use the yield keyword instead of return.\n",
        "\n",
        "example:-\n",
        "def my_generator():\n",
        "\n",
        "    yield 1\n",
        "    yield 2\n",
        "    yield 3\n",
        "gen = my_generator()   # creates a generator object\n",
        "\n",
        "print(next(gen))       # 1\n",
        "\n",
        "print(next(gen))       # 2\n",
        "\n",
        "print(next(gen))       # 3\n",
        "\n",
        "Question-7 :-  What are the advantages of using generators over regular functions?\n",
        "Answer-7 :- Advantages:\n",
        "\n",
        " - Efficient memory usage: Generators do not store the entire sequence in memory, making them suitable for large datasets or infinite sequences.\n",
        " - Simpler syntax: Using yield simplifies the creation of iterators, making the code more concise and readable.\n",
        "\n",
        "regular function example :-\n",
        "\n",
        "def get_numbers(n):\n",
        "    nums = []\n",
        "    for i in range(1, n+1):\n",
        "        nums.append(i)\n",
        "    return nums\n",
        "\n",
        "print(get_numbers(5))   # [1, 2, 3, 4, 5]\n",
        "\n",
        "Generator example (yields one value at a time – memory efficient):\n",
        "\n",
        "def get_numbers_gen(n):\n",
        "    for i in range(1, n+1):\n",
        "        yield i\n",
        "\n",
        "for num in get_numbers_gen(5):\n",
        "    print(num)\n",
        "\n",
        "Question-8 :- What is a lambda function in Python and when is it typically used?\n",
        "Answer-8 :-\n",
        "\n",
        "Definition: Lambda functions are small, anonymous functions defined using the lambda keyword. They are used for creating small, throwaway functions without the need to formally define a function using def\n",
        "\n",
        "example :-\n",
        "square = lambda x : x * x\n",
        "print (square(5))  # 25\n",
        "\n",
        "Question-9 :- Explain the purpose and usage of the `map()` function in Python?\n",
        "\n",
        "Answer-9 :- map() is a function in Python that applies another function to every item in a list (or other collection).\n",
        "\n",
        "example :-\n",
        "def square(x):\n",
        "    return x * x\n",
        "\n",
        "numbers = [1, 2, 3, 4, 5]\n",
        "result = map(square, numbers)\n",
        "print(list(result))\n",
        "\n",
        "Question-10 :- What is the difference between `map()`, `reduce()`, and `filter()` functions in Python?\n",
        "\n",
        "Answer-10 :-\n",
        "1. map() :-\n",
        "  - Purpose: Apply a function to every item in a list.\n",
        "  - Result: A new list with same number of items, but each item is changed by the function\n",
        "\n",
        "example :-\n",
        "numbers = [1, 2, 3, 4, 5]\n",
        "result = map(lambda x: x**2, numbers)\n",
        "print(list(result))  # [1, 4, 9, 16, 25]\n",
        "\n",
        "2. filter() :-\n",
        "  - Purpose: Select items from a list based on a condition.\n",
        "  - Result: A new list with only items that satisfy the condition.\n",
        "\n",
        "example :-\n",
        "numbers = [1, 2, 3, 4, 5]\n",
        "result = filter(lambda x: x % 2 == 0, numbers)\n",
        "print(list(result))  # [2, 4]\n",
        "\n",
        "3. reduce() :-\n",
        "  - Purpose: Combine all items of a list into a single value using a function.\n",
        "  - Result: A single value (number, string, etc.).\n",
        "\n",
        "example :-\n",
        "from functools import reduce\n",
        "\n",
        "numbers = [1, 2, 3, 4, 5]\n",
        "result = reduce(lambda x, y: x + y, numbers)\n",
        "print(result)  # 15\n",
        "\n",
        "Question -11 :- Using pen & Paper write the internal mechanism for sum operation using  reduce function on this given list:[47,11,42,13] ?\n",
        "\n",
        "Answer-11 :-\n",
        "\n",
        "\n",
        "\n",
        "\n"
      ],
      "metadata": {
        "id": "OhCh9VAZZsy5"
      }
    },
    {
      "cell_type": "code",
      "execution_count": 4,
      "metadata": {
        "id": "rxOIjxpYZSko",
        "colab": {
          "base_uri": "https://localhost:8080/"
        },
        "outputId": "e1a603a9-dd66-43b1-dff4-ff1b91349c7a"
      },
      "outputs": [
        {
          "output_type": "stream",
          "name": "stdout",
          "text": [
            "54\n"
          ]
        }
      ],
      "source": [
        "#Practical Questions:\n",
        "#question-1 Write a Python function that takes a list of numbers as input and returns the sum of all even numbers in the list ?\n",
        "# answer-1\n",
        "def sum_even_numbers(numbers):\n",
        "    sum = 0\n",
        "    for num in numbers:\n",
        "        if num % 2 == 0:\n",
        "            sum += num\n",
        "    return sum\n",
        "number = [47,12,42,13]\n",
        "print(sum_even_numbers(number))"
      ]
    },
    {
      "cell_type": "code",
      "source": [
        "# question-2 Create a Python function that accepts a string and returns the reverse of that string.\n",
        "# answer-2\n",
        "def reverse_string(string):\n",
        "    return string[::-1]\n",
        "string = \"Abhay\"\n",
        "print(reverse_string(string))"
      ],
      "metadata": {
        "colab": {
          "base_uri": "https://localhost:8080/"
        },
        "id": "T_sn_NTVn_Tw",
        "outputId": "f239b2f7-7a69-401b-f453-a192d7bcdd59"
      },
      "execution_count": 6,
      "outputs": [
        {
          "output_type": "stream",
          "name": "stdout",
          "text": [
            "yahbA\n"
          ]
        }
      ]
    },
    {
      "cell_type": "code",
      "source": [
        "# question-3  Implement a Python function that takes a list of integers and returns a new list containing the squares of each number.\n",
        "# answer-3\n",
        "def square_numbers(numbers):\n",
        "    squares = []\n",
        "    for num in numbers:\n",
        "        squares.append(num ** 2)\n",
        "    return squares\n",
        "numbers = [1, 2, 3, 4, 5]\n",
        "print(square_numbers(numbers))"
      ],
      "metadata": {
        "colab": {
          "base_uri": "https://localhost:8080/"
        },
        "id": "FBJoV70noxhA",
        "outputId": "a86a0e3a-fbbf-4c19-e3be-2d5454f0ec87"
      },
      "execution_count": 7,
      "outputs": [
        {
          "output_type": "stream",
          "name": "stdout",
          "text": [
            "[1, 4, 9, 16, 25]\n"
          ]
        }
      ]
    },
    {
      "cell_type": "code",
      "source": [
        "# question-4  Write a Python function that checks if a given number is prime or not from 1 to 200.?\n",
        "# answer-4\n",
        "def is_prime(number):\n",
        "    if number <= 1:\n",
        "        return False\n",
        "    if number <= 3:\n",
        "        return True\n",
        "    if number % 2 == 0 or number % 3 == 0:\n",
        "        return False\n",
        "number = 100\n",
        "print(is_prime(number))"
      ],
      "metadata": {
        "colab": {
          "base_uri": "https://localhost:8080/"
        },
        "id": "0nrRXpHBpDw8",
        "outputId": "cc8980a7-8f8a-4e78-ee33-af486e148b49"
      },
      "execution_count": 10,
      "outputs": [
        {
          "output_type": "stream",
          "name": "stdout",
          "text": [
            "False\n"
          ]
        }
      ]
    },
    {
      "cell_type": "code",
      "source": [
        "# question-5 Create an iterator class in Python that generates the Fibonacci sequence up to a specified number of terms ?\n",
        "# answer-5\n",
        "class Fibonacci:\n",
        "    def __init__(self, n):\n",
        "        self.n = n        # total number of terms\n",
        "        self.count = 0    # how many numbers have been generated\n",
        "        self.a = 0        # first number\n",
        "        self.b = 1        # second number\n",
        "\n",
        "    def __iter__(self):\n",
        "        return self\n",
        "\n",
        "    def __next__(self):\n",
        "        if self.count >= self.n:  # stop when we reach the limit\n",
        "            raise StopIteration\n",
        "        if self.count == 0:\n",
        "            self.count += 1\n",
        "            return self.a\n",
        "        elif self.count == 1:\n",
        "            self.count += 1\n",
        "            return self.b\n",
        "        else:\n",
        "            next_number = self.a + self.b\n",
        "            self.a, self.b = self.b, next_number\n",
        "            self.count += 1\n",
        "            return next_number\n",
        "fib_sequence = Fibonacci(15)\n",
        "print(\"The first 15 Fibonacci numbers are:\")\n",
        "for number in fib_sequence:\n",
        "    print(number, end=' ')\n"
      ],
      "metadata": {
        "colab": {
          "base_uri": "https://localhost:8080/"
        },
        "id": "32pMsB9HpuQj",
        "outputId": "60d95f89-76aa-4800-dc1e-f5b0cd5f013d"
      },
      "execution_count": 15,
      "outputs": [
        {
          "output_type": "stream",
          "name": "stdout",
          "text": [
            "The first 15 Fibonacci numbers are:\n",
            "0 1 1 2 3 5 8 13 21 34 55 89 144 233 377 "
          ]
        }
      ]
    },
    {
      "cell_type": "code",
      "source": [
        "# question-6 Write a generator function in Python that yields the powers of 2 up to a given exponent?\n",
        "# answer-6\n",
        "def power_of_two(exponent):\n",
        "    for i in range(exponent + 1):\n",
        "        yield 2 ** i\n",
        "for power in power_of_two(5):\n",
        "    print(power)"
      ],
      "metadata": {
        "colab": {
          "base_uri": "https://localhost:8080/"
        },
        "id": "UIOTKpDfs03K",
        "outputId": "936edcd4-c5c0-4a7b-b9ab-c78f6d8cb1f1"
      },
      "execution_count": 16,
      "outputs": [
        {
          "output_type": "stream",
          "name": "stdout",
          "text": [
            "1\n",
            "2\n",
            "4\n",
            "8\n",
            "16\n",
            "32\n"
          ]
        }
      ]
    },
    {
      "cell_type": "code",
      "source": [
        "# question-7  Implement a generator function that reads a file line by line and yields each line as a string.?\n",
        "# answer-7\n",
        "with open('example.txt', 'w') as f:\n",
        "    f.write(\"This is line 1\\n\")\n",
        "    f.write(\"This is line 2\\n\")\n",
        "    f.write(\"This is line 3\\n\")\n",
        "\n",
        "\n",
        "def read_file_line_by_line(filename):\n",
        "    with open(filename, 'r') as file:\n",
        "        for line in file:\n",
        "            yield line.strip()\n",
        "for line in read_file_line_by_line('example.txt'):\n",
        "    print(line)"
      ],
      "metadata": {
        "colab": {
          "base_uri": "https://localhost:8080/"
        },
        "id": "lYs5g-dvtFFr",
        "outputId": "e1e9bd37-3486-49a6-ce67-55f35d6f2744"
      },
      "execution_count": 21,
      "outputs": [
        {
          "output_type": "stream",
          "name": "stdout",
          "text": [
            "This is line 1\n",
            "This is line 2\n",
            "This is line 3\n"
          ]
        }
      ]
    },
    {
      "cell_type": "code",
      "source": [
        "# question-8 :-Use a lambda function in Python to sort a list of tuples based on the second element of each tuple ?\n",
        "# answer-8\n",
        "tuples = [(1, 3), (3, 2), (2, 1)]\n",
        "sorted_tuples = sorted(tuples, key=lambda x: x[1])\n",
        "print(sorted_tuples)"
      ],
      "metadata": {
        "colab": {
          "base_uri": "https://localhost:8080/"
        },
        "id": "YO1uMoBRtfm0",
        "outputId": "146a7f0d-1cae-494c-a7a4-0e1075f93151"
      },
      "execution_count": 24,
      "outputs": [
        {
          "output_type": "stream",
          "name": "stdout",
          "text": [
            "[(2, 1), (3, 2), (1, 3)]\n"
          ]
        }
      ]
    },
    {
      "cell_type": "code",
      "source": [
        "# question-9 :- Write a Python program that uses `map()` to convert a list of temperatures from Celsius to Fahrenheit.?\n",
        "# answer-9\n",
        "celsius_temperatures = [0, 10, 20, 30, 40]\n",
        "fahrenheit_temperatures = list(map(lambda c: (c * 9/5) + 32, celsius_temperatures))\n",
        "print(fahrenheit_temperatures)"
      ],
      "metadata": {
        "colab": {
          "base_uri": "https://localhost:8080/"
        },
        "id": "rbJvg63SujSY",
        "outputId": "fdb52371-3ad7-4ef2-e868-48a78b83d6d9"
      },
      "execution_count": 28,
      "outputs": [
        {
          "output_type": "stream",
          "name": "stdout",
          "text": [
            "[32.0, 50.0, 68.0, 86.0, 104.0]\n"
          ]
        }
      ]
    },
    {
      "cell_type": "code",
      "source": [
        "# question-10 :-  Create a Python program that uses `filter()` to remove all the vowels from a given string?\n",
        "# answer-10\n",
        "def remove_vowels(string):\n",
        "    vowels = ['a', 'e', 'i', 'o', 'u']\n",
        "    return ''.join(filter(lambda x: x.lower() not in vowels, string))\n",
        "string = \"Abhay gupta\"\n",
        "print(remove_vowels(string))"
      ],
      "metadata": {
        "colab": {
          "base_uri": "https://localhost:8080/"
        },
        "id": "dF48WPvAvFuw",
        "outputId": "2c061340-0478-47d3-8a40-3f15e6ef03ae"
      },
      "execution_count": 32,
      "outputs": [
        {
          "output_type": "stream",
          "name": "stdout",
          "text": [
            "bhy gpt\n"
          ]
        }
      ]
    },
    {
      "cell_type": "code",
      "source": [
        "# question-11 :- Imagine an accounting routine used in a book shop. It works on a list with sublists, which look like this:\n",
        "#  Write a Python program, which returns a list with 2-tuples. Each tuple consists of the order number and the\n",
        "# product of the price per item and the quantity. The product should be increased by 10,- € if the value of the\n",
        "# order is smaller than 100,00 €.\n",
        "#  Write a Python program using lambda and map\n",
        "# answer-11\n",
        "# The list of orders is the same as before.\n",
        "orders = [\n",
        "    [34587, 'Learning Python, Mark Lutz', 4, 40.95],\n",
        "    [98762, 'Programming Python, Mark Lutz', 5, 56.80],\n",
        "    [77226, 'Head First Python, Paul Barry', 3, 32.95],\n",
        "    [88112, 'Einführung in Python3, Bernd Klein', 3, 24.99]\n",
        "]\n",
        "result_list_lambda = list(map(\n",
        "    lambda order: (\n",
        "        order[0],\n",
        "        (order[2] * order[3] + 10) if (order[2] * order[3] < 100) else (order[2] * order[3])\n",
        "    ),\n",
        "    orders\n",
        "))\n",
        "\n",
        "# Print the final list.\n",
        "print(\"\\nFinal list using map and lambda:\")\n",
        "print(result_list_lambda)"
      ],
      "metadata": {
        "colab": {
          "base_uri": "https://localhost:8080/"
        },
        "id": "kH2ST05evXwa",
        "outputId": "84018da2-47d6-4005-a20d-84fef83205cd"
      },
      "execution_count": 33,
      "outputs": [
        {
          "output_type": "stream",
          "name": "stdout",
          "text": [
            "\n",
            "Final list using map and lambda:\n",
            "[(34587, 163.8), (98762, 284.0), (77226, 108.85000000000001), (88112, 84.97)]\n"
          ]
        }
      ]
    },
    {
      "cell_type": "code",
      "source": [],
      "metadata": {
        "id": "vut_jlRHxFaa"
      },
      "execution_count": null,
      "outputs": []
    }
  ]
}