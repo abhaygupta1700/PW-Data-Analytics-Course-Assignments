{
  "nbformat": 4,
  "nbformat_minor": 0,
  "metadata": {
    "colab": {
      "provenance": []
    },
    "kernelspec": {
      "name": "python3",
      "display_name": "Python 3"
    },
    "language_info": {
      "name": "python"
    }
  },
  "cells": [
    {
      "cell_type": "markdown",
      "source": [
        "Python Bsics Assignment :-\n",
        "\n",
        "Theory Part :-\n",
        "\n",
        "Question-1  What is Python, and why is it popular ?\n",
        "\n",
        "Answer-1 Python is a high-level, interpreted programming language known for its simplicity and readability.\n",
        "It is popular because of its :-\n",
        "\n",
        " - Large Standard Library\n",
        "\n",
        " - Versatility\n",
        "\n",
        " - Easy to Learn and Read\n",
        "\n",
        " - Interpretation and Compilation\n",
        "\n",
        " - Dynamic Typing\n",
        "\n",
        " - Community Support\n",
        "\n",
        "Question-2 What is an interpreter in Python ?\n",
        "\n",
        "Answer-2  Python is an interpreted language, which means code is executed line by line, making it easier to debug and test.\n",
        "\n",
        "Question-3 What are pre-defined keywords in Python ?\n",
        "\n",
        "Answer-3 Pre - defined Keywords are the predefined words that hold a special meaning and have specific purpose. These keywords will be used to create the logic in our python programe.\n",
        "example :- false , class , from , or , none , continue , global , pass , true , def , if , raise , and , del , import , return , as , elif , in , try , assert , else , is , while , async , except , lambda , with , await , findly , nonlocal , yield , break , for , not.\n",
        "\n",
        "Question-4 Can keywords be used as variable name ?\n",
        "\n",
        "Answer-4 Keywords can be used as variables name in the python code but it is recommended not to use them in python codes because if you do that then you cannot use then as keywords later in the code.\n",
        "ex :- print = \"Abhay\"\n",
        "      Print (\"world\")\n",
        "      your output will be an type error : 'str' object is not callable.\n",
        "\n",
        "Question-5 What is mutability in Python?\n",
        "\n",
        "Answer-5 Objects / container whose state or value can be changed after they are created called as mutable objects or container in python . they are also known as item assignment .\n",
        "example :- list is a type of mutable object / it supports item assignmet.\n",
        "\n",
        "Question-6 Why are lists mutable, but tuples are immutable ?\n",
        "\n",
        "Answer-6 List ( Mutable ) :- Because lists are designed to be dynamic and changeable, Python allocates them a bit more memory than is immediately needed. This allows the list to grow or shrink without having to be completely recreated in a new memory location every time an element is added or removed\n",
        "\n",
        "Tuple ( Immutable ) :- Tuples are designed to be fixed and unchangeable. When a tuple is created, Python allocates a precise amount of memory needed to store its elements. Since the size and contents are guaranteed not to change, Python can optimize for this immutability, making tuples more memory-efficient and slightly faster for tasks like iteration and element access\n",
        "\n",
        "Question-7 What is the difference between “==” and “is” operators in Python ?\n",
        "\n",
        "Answer-7 The main difference is what they compare. The \"==\" operator compares the values of two objects, while the \"is\" operator compares their identity, which means it checks if they are the exact same object in memory.\n",
        "\n",
        "Question-8 What are logical operators in Python ?\n",
        "\n",
        "Answer-8 Logical operators in Python are symbols that let you combine or modify Boolean expressions. They are used to perform logical operations and return a Boolean value, either \"True\" or \"False\".\n",
        "\n",
        " - The \"and\" Operator :- The \"and\" operator returns \"True\" if both of the conditions on either side of it are \"True\". If either condition is \"False\", the entire expression becomes \"False\".\n",
        "\n",
        " - The \"or\" Operator :- The \"or\" operator returns \"True\" if at least one of the conditions is \"True\". The entire expression is only \"False\" if both conditions are \"False\".\n",
        "\n",
        " - The \"not\" Operator :- The \"not\" operator is a unary operator, meaning it works on a single condition. It inverts the Boolean value of the expression that follows it. If a condition is \"True\", not makes it \"False\", and if it's \"False\", not makes it \"True\".\n",
        "\n",
        "Question-9 :- What is type casting in Python ?\n",
        "\n",
        "Answer-9 :- Type casting, also known as type conversion, is the process of changing the data type of a value from one type to another. It's a fundamental concept that allows you to work with different types of data in a flexible way. Python has built-in functions for this purpose, such as int(), float(), str(), and bool().\n",
        "\n",
        " - int(): Converts a value to an integer. It can be used on floats (truncating the decimal part) or strings that represent a whole number.\n",
        "\n",
        " - float(): Converts a value to a floating-point number.\n",
        "\n",
        " - str(): Converts a value to a string.\n",
        "\n",
        " - bool(): Converts a value to a Boolean (True or False). In Python, most values are True, except for empty strings, the number 0, None, and empty lists or dictionaries.\n",
        "\n",
        "Question-10 :- What is the difference between implicit and explicit type casting ?\n",
        "\n",
        "Answer-10 :-\n",
        " - Impicit :- An implicit type conversion is a conversion performed by the python interpreter without programmer's intervention.\n",
        "\n",
        " - Explicit :- An Explicit type conversion is user-defined that forces an expression to be of specified datatype.\n",
        "\n",
        "Question-11 :- What is the purpose of conditional statements in Python ?\n",
        "\n",
        "Answer-11 :- Conditional statements in Python allow you to execute certain blocks of code only if a specific condition is met. They are essential for controlling the flow of a program, enabling it to make decisions and respond to different situations.\n",
        "\n",
        "there are different types of conditional statement :-   \n",
        "\n",
        " - IF\n",
        " - IF-ELSE\n",
        " - IF-ELIF-ELSE\n",
        " - NESTED IF-ELSE\n",
        "\n",
        "Question-12 :- How does the elif statement work?\n",
        "\n",
        "Answer-12 :- The \"elif\" statement in Python is used to check for multiple conditions sequentially after an initial if statement. It allows a program to handle more than two possible outcomes. The code block associated with an \"elif\" statement will only run if the preceding \"if\" or \"elif\" conditions were all \"False\".\n",
        "\n",
        "Example :- score = 85\n",
        "\n",
        "if score >= 90:\n",
        "    print(\"A\")\n",
        "elif score >= 80:\n",
        "    print(\"B\")\n",
        "elif score >= 70:\n",
        "    print(\"C\")\n",
        "else:\n",
        "    print(\"D\")\n",
        "\n",
        "Question-13 :- What is the difference between \"for\" and \"while\" loops ?\n",
        "\n",
        "Answer-13 :- \"for\" loops are used for iterating over a sequence of items, like a list, tuple, or string, or for a fixed number of times. \"while\" loops are used to execute a block of code repeatedly as long as a specified condition remains \"true\".\n",
        "\n",
        "Question-14 :- Describe a scenario where a \"while\" loop is more suitable than a \"for\" loop ?\n",
        "\n",
        "Answer :- A \"while\" loop is more suitable than a \"for\" loop when the number of iterations is not known in advance and the loop needs to continue until a specific condition is met.\n",
        "\n",
        "\n",
        "\n"
      ],
      "metadata": {
        "id": "i3wJhxCCTcxf"
      }
    },
    {
      "cell_type": "code",
      "source": [
        "# Practical Part\n",
        "# Question-1 :-  Write a Python program to print \"Hello, World! ?\n",
        "print(\"Hello, World!\")\n"
      ],
      "metadata": {
        "colab": {
          "base_uri": "https://localhost:8080/"
        },
        "id": "yUK-W4vWXerr",
        "outputId": "9cbafb86-bbc6-4c99-b677-fa1ccfc6c98d"
      },
      "execution_count": 1,
      "outputs": [
        {
          "output_type": "stream",
          "name": "stdout",
          "text": [
            "Hello, World!\n"
          ]
        }
      ]
    },
    {
      "cell_type": "code",
      "execution_count": 2,
      "metadata": {
        "colab": {
          "base_uri": "https://localhost:8080/"
        },
        "id": "pDbPsrfWSrjt",
        "outputId": "0cbfc309-1afd-4a32-a55e-6020deee3d42"
      },
      "outputs": [
        {
          "output_type": "stream",
          "name": "stdout",
          "text": [
            "My name is Abhay Gupta and my age is 24\n"
          ]
        }
      ],
      "source": [
        "# Question-2 :- Write a Python program that displays your name and age ?\n",
        "Name = \"Abhay Gupta\"\n",
        "Age = 24\n",
        "print(f\"My name is {Name} and my age is {Age}\")"
      ]
    },
    {
      "cell_type": "code",
      "source": [
        "# Question-3 :- Write code to print all the pre-defined keywords in Python using the keyword library ?\n",
        "help(\"keywords\")\n"
      ],
      "metadata": {
        "colab": {
          "base_uri": "https://localhost:8080/"
        },
        "id": "us89ofpRr6Zb",
        "outputId": "72ad6877-2c2e-4d36-f350-b628e8d132ca"
      },
      "execution_count": 4,
      "outputs": [
        {
          "output_type": "stream",
          "name": "stdout",
          "text": [
            "\n",
            "Here is a list of the Python keywords.  Enter any keyword to get more help.\n",
            "\n",
            "False               class               from                or\n",
            "None                continue            global              pass\n",
            "True                def                 if                  raise\n",
            "and                 del                 import              return\n",
            "as                  elif                in                  try\n",
            "assert              else                is                  while\n",
            "async               except              lambda              with\n",
            "await               finally             nonlocal            yield\n",
            "break               for                 not                 \n",
            "\n"
          ]
        }
      ]
    },
    {
      "cell_type": "code",
      "source": [
        "# Question-4 :- Write a program that checks if a given word is a Python keyword ?\n",
        "import keyword\n",
        "word = input(\"Please enter a word: \")\n",
        "if keyword.iskeyword(word):\n",
        "    print(f\"{word} is a Python keyword.\")\n",
        "else:\n",
        "    print(f\"{word} is not a Python keyword.\")"
      ],
      "metadata": {
        "colab": {
          "base_uri": "https://localhost:8080/"
        },
        "id": "PjQMXBldr7Fr",
        "outputId": "c2955499-1254-4087-a2b1-7c76c68d9198"
      },
      "execution_count": 6,
      "outputs": [
        {
          "output_type": "stream",
          "name": "stdout",
          "text": [
            "Please enter a word: you\n",
            "you is not a Python keyword.\n"
          ]
        }
      ]
    },
    {
      "cell_type": "code",
      "source": [
        "# Question-5 :-Create a list and tuple in Python, and demonstrate how attempting to change an element works differently for each ?\n",
        "#Answer :- #List\n",
        "list = [ 1 , 2 , 3.5 , \"abhay\"]\n",
        "print(list)\n",
        "list[0] = 5\n",
        "print(list)\n",
        "\n",
        "#tuple\n",
        "tuple = ( 1 , 2 , 3.5 , \"abhay\")\n",
        "print(tuple)\n",
        "tuple[0] = 5\n",
        "print(tuple)\n"
      ],
      "metadata": {
        "colab": {
          "base_uri": "https://localhost:8080/",
          "height": 245
        },
        "id": "BfSSlPSfr7Q3",
        "outputId": "de05b09e-a11f-495c-fcab-9af58404111e"
      },
      "execution_count": 8,
      "outputs": [
        {
          "output_type": "stream",
          "name": "stdout",
          "text": [
            "[1, 2, 3.5, 'abhay']\n",
            "[5, 2, 3.5, 'abhay']\n",
            "(1, 2, 3.5, 'abhay')\n"
          ]
        },
        {
          "output_type": "error",
          "ename": "TypeError",
          "evalue": "'tuple' object does not support item assignment",
          "traceback": [
            "\u001b[0;31m---------------------------------------------------------------------------\u001b[0m",
            "\u001b[0;31mTypeError\u001b[0m                                 Traceback (most recent call last)",
            "\u001b[0;32m/tmp/ipython-input-3653723637.py\u001b[0m in \u001b[0;36m<cell line: 0>\u001b[0;34m()\u001b[0m\n\u001b[1;32m      9\u001b[0m \u001b[0mtuple\u001b[0m \u001b[0;34m=\u001b[0m \u001b[0;34m(\u001b[0m \u001b[0;36m1\u001b[0m \u001b[0;34m,\u001b[0m \u001b[0;36m2\u001b[0m \u001b[0;34m,\u001b[0m \u001b[0;36m3.5\u001b[0m \u001b[0;34m,\u001b[0m \u001b[0;34m\"abhay\"\u001b[0m\u001b[0;34m)\u001b[0m\u001b[0;34m\u001b[0m\u001b[0;34m\u001b[0m\u001b[0m\n\u001b[1;32m     10\u001b[0m \u001b[0mprint\u001b[0m\u001b[0;34m(\u001b[0m\u001b[0mtuple\u001b[0m\u001b[0;34m)\u001b[0m\u001b[0;34m\u001b[0m\u001b[0;34m\u001b[0m\u001b[0m\n\u001b[0;32m---> 11\u001b[0;31m \u001b[0mtuple\u001b[0m\u001b[0;34m[\u001b[0m\u001b[0;36m0\u001b[0m\u001b[0;34m]\u001b[0m \u001b[0;34m=\u001b[0m \u001b[0;36m5\u001b[0m\u001b[0;34m\u001b[0m\u001b[0;34m\u001b[0m\u001b[0m\n\u001b[0m\u001b[1;32m     12\u001b[0m \u001b[0mprint\u001b[0m\u001b[0;34m(\u001b[0m\u001b[0mtuple\u001b[0m\u001b[0;34m)\u001b[0m\u001b[0;34m\u001b[0m\u001b[0;34m\u001b[0m\u001b[0m\n",
            "\u001b[0;31mTypeError\u001b[0m: 'tuple' object does not support item assignment"
          ]
        }
      ]
    },
    {
      "cell_type": "code",
      "source": [
        "# Question-6 :- Write a function to demonstrate the behavior of mutable and immutable arguments ?\n"
      ],
      "metadata": {
        "id": "ZhDlRrTPr7dY"
      },
      "execution_count": null,
      "outputs": []
    },
    {
      "cell_type": "code",
      "source": [
        "# Question-7 :- Write a program that performs basic arithmetic operations on two user-input numbers ?\n",
        "number_1 = float(input(\"Enter the first number: \"))\n",
        "number_2 = float(input(\"Enter the second number: \"))\n",
        "addition_result = number_1 + number_2\n",
        "subtraction_result = number_1 - number_2\n",
        "multiplication_result = number_1 * number_2\n",
        "division_result = number_1 / number_2\n",
        "print(\"\\n--- Here are your results ---\")\n",
        "print(f\"Addition: {number_1} + {number_2} = {addition_result}\")\n",
        "print(f\"Subtraction: {number_1} - {number_2} = {subtraction_result}\")\n",
        "print(f\"Multiplication: {number_1} * {number_2} = {multiplication_result}\")\n",
        "print(f\"Division: {number_1} / {number_2} = {division_result}\")\n",
        "\n"
      ],
      "metadata": {
        "colab": {
          "base_uri": "https://localhost:8080/"
        },
        "id": "c9BSrc31wbU1",
        "outputId": "0d40a367-2807-45a8-9a00-83f3aab119db"
      },
      "execution_count": 9,
      "outputs": [
        {
          "output_type": "stream",
          "name": "stdout",
          "text": [
            "Enter the first number: 5\n",
            "Enter the second number: 9\n",
            "\n",
            "--- Here are your results ---\n",
            "Addition: 5.0 + 9.0 = 14.0\n",
            "Subtraction: 5.0 - 9.0 = -4.0\n",
            "Multiplication: 5.0 * 9.0 = 45.0\n",
            "Division: 5.0 / 9.0 = 0.5555555555555556\n"
          ]
        }
      ]
    },
    {
      "cell_type": "code",
      "source": [
        "# Question-8 :-  Write a program to demonstrate the use of logical operators ?\n",
        "# Answer-8 :-\n",
        "# first asign the values as\n",
        "is_sunny = True\n",
        "is_warm = False\n",
        "print(f\"Is it sunny? The answer is: {is_sunny}\")\n",
        "print(f\"Is it warm? The answer is: {is_warm}\")\n",
        "print(\"Check with 'and': Can we go to the park?\")\n",
        "# then we are going to use \"and\" operator in which both the conditions should be true for a statement to run\n",
        "can_go_to_park = is_sunny and is_warm\n",
        "print(f\"Is it sunny AND warm? The answer is: {can_go_to_park}\")\n",
        "print(\"\\nCheck with 'or': Can we go to the cafe?\")\n",
        "# here we are going to use \"or\" operator in which atleast one condition should be true for a statement to run\n",
        "can_go_to_cafe = is_sunny or is_warm\n",
        "print(f\"Is it sunny OR warm? The answer is: {can_go_to_cafe}\")\n",
        "# here we are going to use \"not\" operator in which we are going to change the condition from false to true or from true to false with the help of \"Not\" operator.\n",
        "print(\"\\nCheck with 'not':\")\n",
        "print(f\"Is it NOT sunny? The answer is: {not is_sunny}\")"
      ],
      "metadata": {
        "colab": {
          "base_uri": "https://localhost:8080/"
        },
        "id": "egcYdLRJyTeZ",
        "outputId": "272a685b-b1f7-4efa-8c13-813f449b01c8"
      },
      "execution_count": 14,
      "outputs": [
        {
          "output_type": "stream",
          "name": "stdout",
          "text": [
            "Is it sunny? The answer is: True\n",
            "Is it warm? The answer is: False\n",
            "Check with 'and': Can we go to the park?\n",
            "Is it sunny AND warm? The answer is: False\n",
            "\n",
            "Check with 'or': Can we go to the cafe?\n",
            "Is it sunny OR warm? The answer is: True\n",
            "\n",
            "Check with 'not':\n",
            "Is it NOT sunny? The answer is: False\n"
          ]
        }
      ]
    },
    {
      "cell_type": "code",
      "source": [
        "# Question-9 :-  Write a Python program to convert user input from string to integer, float, and boolean types ?\n",
        "# Answer-9 :-\n",
        "user_input_number = input(\"Enter a whole number (like 123): \")\n",
        "as_integer = int(user_input_number)\n",
        "result = as_integer + 5\n",
        "print(\"You entered:\", user_input_number)\n",
        "print(\"The number as an integer is:\", as_integer)\n",
        "print(\"If we add 5 to it, we get:\", result)\n",
        "user_input_float = input(\"Enter a number with a decimal (like 12.34): \")\n",
        "as_float = float(user_input_float)\n",
        "print(\"You entered:\", user_input_float)\n",
        "print(\"The number as a float is:\", as_float)\n",
        "user_input_text = input(\"Enter any word or phrase: \")\n",
        "as_boolean = bool(user_input_text)\n",
        "print(\"You entered:\", user_input_text)\n",
        "print(\"The text as a boolean is:\", as_boolean)"
      ],
      "metadata": {
        "colab": {
          "base_uri": "https://localhost:8080/"
        },
        "id": "DhPkascI2KH6",
        "outputId": "49051737-911c-4846-e388-36d831c2e0d8"
      },
      "execution_count": 21,
      "outputs": [
        {
          "output_type": "stream",
          "name": "stdout",
          "text": [
            "Enter a whole number (like 123): 456\n",
            "You entered: 456\n",
            "The number as an integer is: 456\n",
            "If we add 5 to it, we get: 461\n",
            "Enter a number with a decimal (like 12.34): 2.5\n",
            "You entered: 2.5\n",
            "The number as a float is: 2.5\n",
            "Enter any word or phrase: abhay\n",
            "You entered: abhay\n",
            "The text as a boolean is: True\n"
          ]
        }
      ]
    },
    {
      "cell_type": "code",
      "source": [
        "# Question-10 :- Write code to demonstrate type casting with list elements ?\n",
        "my_list = [\"1\", \"2\", \"3\"]\n",
        "new_list = []\n",
        "for item in my_list:\n",
        "  number = int(item)\n",
        "  new_list.append(number)\n",
        "print(\"List of strings:\", my_list)\n",
        "print(\"List of numbers:\", new_list)"
      ],
      "metadata": {
        "colab": {
          "base_uri": "https://localhost:8080/"
        },
        "id": "7WVqu2pi4cSZ",
        "outputId": "9163ce52-530e-4786-efa8-bb3fb48db562"
      },
      "execution_count": 20,
      "outputs": [
        {
          "output_type": "stream",
          "name": "stdout",
          "text": [
            "List of strings: ['1', '2', '3']\n",
            "List of numbers: [1, 2, 3]\n"
          ]
        }
      ]
    },
    {
      "cell_type": "code",
      "source": [
        "# Question-11 :- Write a program that checks if a number is positive, negative, or zero ?\n",
        "number = float(input(\"Enter a number: \"))\n",
        "if number > 0:\n",
        "    print(\"The number is positive.\")\n",
        "elif number < 0:\n",
        "    print(\"The number is negative.\")\n",
        "else:\n",
        "    print(\"The number is zero.\")"
      ],
      "metadata": {
        "colab": {
          "base_uri": "https://localhost:8080/"
        },
        "id": "3Om3dwl34cfW",
        "outputId": "67e05d84-24d1-4400-f725-c0e40cb2c8e2"
      },
      "execution_count": 15,
      "outputs": [
        {
          "output_type": "stream",
          "name": "stdout",
          "text": [
            "Enter a number: 8\n",
            "The number is positive.\n"
          ]
        }
      ]
    },
    {
      "cell_type": "code",
      "source": [
        "# Question-12 :-  Write a for loop to print numbers from 1 to 10 ?\n",
        "for number in range(1, 11):\n",
        "    print(number)\n"
      ],
      "metadata": {
        "colab": {
          "base_uri": "https://localhost:8080/"
        },
        "id": "P1nb0O6N4crW",
        "outputId": "883e06b8-2f2b-4a9f-b1b2-3d7026cd5ede"
      },
      "execution_count": 16,
      "outputs": [
        {
          "output_type": "stream",
          "name": "stdout",
          "text": [
            "1\n",
            "2\n",
            "3\n",
            "4\n",
            "5\n",
            "6\n",
            "7\n",
            "8\n",
            "9\n",
            "10\n"
          ]
        }
      ]
    },
    {
      "cell_type": "code",
      "source": [
        "# Question-13 :-  Write a Python program to find the sum of all even numbers between 1 and 50 ?\n",
        "total_sum = 0\n",
        "for number in range(1, 51):\n",
        "    if number % 2 == 0:\n",
        "      total_sum += number\n",
        "print(f\"The sum of all even numbers between 1 and 50 is: {total_sum}\")"
      ],
      "metadata": {
        "colab": {
          "base_uri": "https://localhost:8080/"
        },
        "id": "kud1_JIC4c45",
        "outputId": "ccc2f923-b1b9-47a8-f1ee-2d5b60da1ac2"
      },
      "execution_count": 17,
      "outputs": [
        {
          "output_type": "stream",
          "name": "stdout",
          "text": [
            "The sum of all even numbers between 1 and 50 is: 650\n"
          ]
        }
      ]
    },
    {
      "cell_type": "code",
      "source": [
        "# Question-14 :-  Write a program to reverse a string using a while loop ?\n",
        "input_string = input(\"Enter a string to reverse: \")\n",
        "reversed_string = input_string[::-1]\n",
        "print(\"The reversed string is:\", reversed_string)"
      ],
      "metadata": {
        "colab": {
          "base_uri": "https://localhost:8080/"
        },
        "id": "3lwND3HI4dGT",
        "outputId": "930036c1-063f-4f75-d494-e07d4b97ed7d"
      },
      "execution_count": 18,
      "outputs": [
        {
          "output_type": "stream",
          "name": "stdout",
          "text": [
            "Enter a string to reverse: ABHAY\n",
            "The reversed string is: YAHBA\n"
          ]
        }
      ]
    },
    {
      "cell_type": "code",
      "source": [
        "# Question-15 :-   Write a Python program to calculate the factorial of a number provided by the user using a while loop ?\n",
        "num = int(input(\"Enter a non-negative integer: \"))\n",
        "if num < 0:\n",
        "    print(\"Factorial is not defined for negative numbers.\")\n",
        "elif num == 0:\n",
        "    print(\"The factorial of 0 is 1.\")\n",
        "else:\n",
        "  factorial = 1\n",
        "  i = 1\n",
        "  while i <= num:\n",
        "    factorial *= i\n",
        "    i += 1\n",
        "  print(f\"The factorial of {num} is {factorial}\")\n"
      ],
      "metadata": {
        "colab": {
          "base_uri": "https://localhost:8080/"
        },
        "id": "0IwjmKnv4dVo",
        "outputId": "21a68e8a-ac6b-471c-fbc2-c79965d13ce2"
      },
      "execution_count": 19,
      "outputs": [
        {
          "output_type": "stream",
          "name": "stdout",
          "text": [
            "Enter a non-negative integer: 50\n",
            "The factorial of 50 is 30414093201713378043612608166064768844377641568960512000000000000\n"
          ]
        }
      ]
    }
  ]
}