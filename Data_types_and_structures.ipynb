{
  "nbformat": 4,
  "nbformat_minor": 0,
  "metadata": {
    "colab": {
      "provenance": []
    },
    "kernelspec": {
      "name": "python3",
      "display_name": "Python 3"
    },
    "language_info": {
      "name": "python"
    }
  },
  "cells": [
    {
      "cell_type": "markdown",
      "source": [
        "Data Types and Structures Assignment :-\n",
        "\n",
        "Question-1 :- What are data structures, and why are they important ?\n",
        "\n",
        "Answer-1 :- Data structures are fundamental to computer science and programming, serving as specialized containers for storing, organizing, and manipulating data efficiently. They are crucial because they dictate how quickly you can access, process, and manage data, which directly impacts the performance of your code\n",
        "\n",
        "Why Data Structures are Important :-\n",
        "\n",
        " - Efficiency: The choice of a data structure can significantly affect a program's speed and efficiency. Picking the right one is essential for writing efficient code.\n",
        "\n",
        " - Organization: Just like you use different containers and drawers to organize items at home, you use different data structures to organize different types of data in programming.\n",
        "\n",
        " - Versatility: Python offers a variety of built-in data structures, such as lists, tuples, sets, and dictionaries, which make it easier to handle common data management tasks without building them from scratch.\n",
        "\n",
        " - Flexibility: Different data structures serve different purposes. Some are great for storing large amounts of data, while others are optimized for quick searches or data retrieval\n",
        "\n",
        "Common Data Structures in python :-\n",
        "\n",
        " - List\n",
        "\n",
        " - Tuple\n",
        "\n",
        " - Set\n",
        "\n",
        " - Dictionaries\n",
        "\n",
        " - Arrays\n",
        "\n",
        " - Stack & Queue\n",
        "\n",
        "    - Stack\n",
        "\n",
        "    - Queue\n",
        "\n",
        "Question-2 :- Explain the difference between mutable and immutable data types with examples ?\n",
        "\n",
        "Answer-2 :-\n",
        " - Mutable - Mutable objects are those whose value or state can be changed after they are created without creating a new object in memory. This characteristic is particularly useful for tasks that require frequent modifications to data, as it is more memory-efficient than creating new objects for every change.\n",
        "\n",
        " Example :\n",
        "  - Lists: You can add, remove, or change elements within a list after it's been created.\n",
        "\n",
        "  - Dictionaries: You can add new key-value pairs or modify existing ones.\n",
        "\n",
        "  - Sets: You can add and remove elements from a set.\n",
        "\n",
        "Question-3 :- What are the main differences between lists and tuples in Python?\n",
        "\n",
        "Answer-3 :- Main differences between Lists and Tuples in Python are :-\n",
        "- Mutability :\n",
        "  - list : can be changed (add, remove, modify elements)\n",
        "  - Tuple : cannot be changed after creation\n",
        "- Syntax :\n",
        "  - list : Defined using square brackets [].\n",
        "  - tuple : Defined using parentheses ().\n",
        "- Performance :\n",
        "  - list : Slower than tuples (because they are mutable and more flexible).\n",
        "  - tuples : Faster than lists (due to immutability).\n",
        "- Use Case :\n",
        "  - list : Best for data that needs to change frequently (dynamic data).\n",
        "  - tuples : Best for fixed collections of items (constant data).\n",
        "- Methods available :\n",
        "  - list : built-in methods (append(), remove(), sort(), etc.)\n",
        "  - tuples : Fewer methods (count(), index()).\n",
        "\n",
        "Question-4 :- Describe how dictionaries store data ?\n",
        "\n",
        "Answer-4 :-\n",
        " - A dictionary is a collection of key–value pairs.\n",
        " - Each key must be unique and immutable (e.g., string, number, tuple), while the value can be of any data type.\n",
        " - They allow fast lookup, insertion, and deletion based on keys.\n",
        "\n",
        "  (a). Key-Value Mapping : Data is stored as pairs like \"key\": value.\n",
        "\n",
        "  (b). Hashing :\n",
        "  - Internally, Python dictionaries use a hash table.\n",
        "  - Each key is hashed to generate an index where the value is stored in memory.\n",
        "  - This makes dictionary operations like search, insert, and delete very efficient (average O(1) time complexity).\n",
        "\n",
        "  (c). Uniqueness of Keys :\n",
        "  - Since keys are hashed, they must be immutable and unique.\n",
        "  - If you insert a value with an existing key, it overwrites the old value.\n",
        "\n",
        "Question-5 :-  Why might you use a set instead of a list in Python?\n",
        "\n",
        "Answer-5 :-\n",
        "\n",
        " (a). Uniqueness :\n",
        "\n",
        "  - Set: Stores only unique elements (no duplicates allowed).\n",
        "  - List: Can contain duplicate values.\n",
        "  - Use a set when you want to automatically remove duplicates.\n",
        "\n",
        " (b). Faster Membership Testing :\n",
        "\n",
        "  - Checking if an item exists in a set (in) is much faster than in a list because sets use hashing.\n",
        "  - Use a set when you often check for existence.\n",
        "\n",
        " (c). Set Operations :\n",
        "\n",
        "  - Sets support operations like union, intersection, difference, which lists don’t natively provide.\n",
        "  - Use a set for tasks involving mathematical set theory.\n",
        "\n",
        "Questions-6 :- What is a string in Python, and how is it different from a list ?\n",
        "\n",
        "Answer-6 :-\n",
        " - A string in Python is an ordered sequence of characters, used for storing text. It is a built-in data type and can be created using single quotes ('...'), double quotes (\"...\"), or triple quotes (\"\"\"...\"\"\").\n",
        "\n",
        " - Strings are fundamentally different from lists in two key ways: mutability and contents.\n",
        "\n",
        " (a). Mutability :\n",
        "\n",
        "  - Strings are immutable, meaning their contents cannot be changed after they are created. Any operation that seems to modify a string, like concatenation or replacement, actually creates a new string object.\n",
        "  - Lists, on the other hand, are mutable. This means you can add, remove, or change elements within an existing list without creating a new one.\n",
        "\n",
        " (b). Contents :\n",
        "\n",
        " - A string is a collection of a single data type: characters. A list is a more versatile container that can hold a mix of different data types, such as integers, strings, and booleans.\n",
        " - This difference is similar to how a list is analogous to a music playlist that can contain different songs, while a string is more like a single song with a fixed sequence of notes.\n",
        "\n",
        "Question-7 :-  How do tuples ensure data integrity in Python ?\n",
        "\n",
        "Answer-7 :-\n",
        "  - Tuples ensure data integrity in Python because they are an\n",
        "immutable data type. This means that once a tuple is created, its contents cannot be changed, added, or removed.\n",
        "  - This immutability is crucial for data integrity because it guarantees that the data stored in the tuple remains constant throughout the program's execution. If a piece of data, such as a set of coordinates or a record of related values, is stored in a tuple, you can be sure it won't be accidentally or maliciously altered by other parts of the code.\n",
        "\n",
        "Question-8 :- What is a hash table, and how does it relate to dictionaries in Python?\n",
        "\n",
        "Answer :-\n",
        " - A hash table is a data structure that stores data in key–value pairs.\n",
        " - It uses a hash function to convert each key into a numerical value (hash code) that determines where the value will be stored in memory.\n",
        " - This allows for very fast lookups, insertions, and deletions.\n",
        "\n",
        "Relation to Dictionaries in Python :\n",
        " - In Python, dictionaries are implemented using hash tables.\n",
        " - Keys in a dictionary must be immutable (like strings, numbers, tuples) so that their hash values don’t change.\n",
        " - If you insert a key that already exists, the dictionary updates the value at that hash location.\n",
        " - Dictionary operations (get, set, delete) are generally constant time O(1) because of the hash table mechanism.\n",
        "\n",
        "Question-9 :- Can lists contain different data types in Python ?\n",
        "\n",
        "Answer-9 : lists can contain different data types in Python. They are designed to be versatile, allowing a single list to hold a mix of data types, such as integers, strings, and booleans.\n",
        "\n",
        "Question-10 :- Explain why strings are immutable in Python ?\n",
        "\n",
        "Answer-10 :-\n",
        " - Strings are immutable in Python, which means once they are created, their content cannot be changed. Any operation that appears to modify a string, like adding or replacing characters, actually creates a brand-new string object. This characteristic is a fundamental design choice in Python.\n",
        " - The immutability of strings ensures data integrity and makes them hashable. Since their value cannot be changed, a string can be used as a key in a dictionary or an element in a set, both of which require hashable objects for efficient lookup. If strings were mutable, their hash value could change, making it impossible to reliably locate them in a hash table.\n",
        "\n",
        "Question-11 :-What advantages do dictionaries offer over lists for certain tasks?\n",
        "\n",
        "Answer-11 :-\n",
        " - Dictionaries offer significant advantages over lists for certain tasks, primarily due to their key-value structure and optimized performance for specific operations.\n",
        "\n",
        "   (a). Key-Based Access and Organization :\n",
        "    - Unlike lists, which use numerical indices, dictionaries store data in an unordered collection of unique keys mapped to values. This allows you to access and retrieve data based on a meaningful key rather than a numerical position. This makes dictionaries ideal for tasks where you need to look up information using a specific identifier, such as a product name, a student ID, or a phone number.\n",
        "\n",
        "   (b). Efficiency :\n",
        "    - Dictionaries are highly optimized for searching, adding, and removing data. These operations are performed efficiently, often in constant average time, regardless of the size of the dictionary. This is a major advantage over lists, where searching for a specific item may require checking every element, a process that becomes slower as the list grows. The performance of dictionaries stems from their underlying implementation as a hash table\n",
        "\n",
        "   (C). Data Integrity :\n",
        "    - Because dictionary keys must be immutable (e.g., strings, numbers, or tuples), they provide a level of data integrity. The keys cannot be changed after creation, which ensures a consistent and reliable way to access values.\n",
        "\n",
        "Question-12 :- Describe a scenario where using a tuple would be preferable over a list?\n",
        "\n",
        "Answer :- we would prefer using a tuple over a list in a scenario where you have a collection of related values that should not change.\n",
        "\n",
        "example : storing geographical coordinates, such as latitude and longitude, which are a fixed pair of values.\n",
        "\n",
        "Question-13 :- How do sets handle duplicate values in Python?\n",
        "\n",
        "Answer-13 :- Sets in Python automatically handle duplicate values by storing only the unique elements of a collection. They are unordered collections, and if you try to add a duplicate element, the set will simply ignore it, ensuring that each item in the set is distinct.\n",
        "\n",
        "Question-14 :-  How does the “in” keyword work differently for lists and dictionaries ?\n",
        "\n",
        "Answer-14 :- The \"in\" keyword works the same way for both lists and dictionaries by checking for the presence of an element within the collection. However, what it searches for is fundamentally different due to the distinct structures of these data types.\n",
        "\n",
        "  - List : he in keyword checks if a specified value is present anywhere in the list. It performs a sequential search, checking each element one by one until it finds a match.\n",
        "  - Dictionaries : The in keyword checks if a specified key exists in the dictionary. It does not check for the presence of a value. The lookup is highly efficient because it uses the dictionary's underlying hash table, allowing it to quickly determine if the key exists without searching through every item.\n",
        "\n",
        "Question-15 :- Can you modify the elements of a tuple? Explain why or why not?\n",
        "\n",
        "Answer-15 :-\n",
        " - No, you can't modify the elements of a tuple because tuples are an immutable data type in Python. Once a tuple is created, its contents are fixed and cannot be changed, added, or removed.\n",
        " - If you attempt to modify a tuple, you will get a TypeError. This immutability is what differentiates tuples from lists, which are mutable and can be modified after creation.\n",
        " - This characteristic makes tuples useful for situations where you want to ensure that data remains constant, providing a level of data integrity that lists do not. For instance, if a tuple is used to represent a set of fixed coordinates, you can be certain that those values won't be accidentally changed by another part of the program.\n",
        "\n",
        "Question-16 :- What is a nested dictionary, and give an example of its use case ?\n",
        "\n",
        "Answer-16 :- A nested dictionary is a dictionary that contains other dictionaries as values, forming a hierarchical, multi-level structure. This allows you to organize complex, related data in a structured way.\n",
        "\n",
        "Question-17 :- Describe the time complexity of accessing elements in a dictionary ?\n",
        "\n",
        "Answer-17 :-\n",
        " - Accessing elements in a Python dictionary has an average-case time complexity of O(1), or constant time.\n",
        " - This high efficiency is a direct result of the dictionary's underlying implementation as a hash table. When you look up a value using a key, Python's hash function takes the key and calculates a hash code, which corresponds to a specific memory location or \"bucket\" in the hash table. This allows the program to jump directly to the correct location to retrieve the value, without having to search through the entire collection.\n",
        "\n",
        "Question-18 :-  In what situations are lists preferred over dictionaries?\n",
        "\n",
        "Answer-18 :- Lists are preferred over dictionaries in situations where the order of elements is important and you need to access items by their numerical position or index.\n",
        " - Ordered Collections\n",
        " - Sequential Data\n",
        " - Arbitrary Data\n",
        " - Duplicate Values\n",
        "\n",
        "Question-19 :- Why are dictionaries considered unordered, and how does that affect data retrieval?\n",
        "\n",
        "Answer-19 :- Dictionaries are considered unordered because they do not store elements in a specific, sequential order like lists or tuples. Instead, they organize data using hash tables, which arrange key-value pairs based on the computed hash value of the key, not on their insertion order.\n",
        "\n",
        "How This Affects Data Retrieval :\n",
        " - This lack of order is by design and has a positive effect on data retrieval, making it incredibly fast. Because a dictionary's internal structure is based on a hash table, you can access a value directly by its key, without needing to iterate through the entire collection. This provides a significant performance advantage over ordered data structures like lists, especially for large datasets.\n",
        "\n",
        "Question-20 :-  Explain the difference between a list and a dictionary in terms of data retrieval ?\n",
        "\n",
        "Answer-20 :- The key difference between a list and a dictionary in terms of data retrieval is how you access elements. Lists are ordered collections, so you retrieve data by its numerical index, while dictionaries are unordered collections that retrieve data using a unique, meaningful key.\n",
        "\n",
        "(a). List data retrieval :\n",
        " - Access Method: With lists, you access elements by their integer index, starting from 0. You retrieve the n-th item by its position in the list.\n",
        " - Analogy: Think of retrieving an item from a list like finding a specific item in a queue—you count from the front to get to the right position.\n",
        "\n",
        "(b). Dictionary data retrieval :-\n",
        " - Access Method: With dictionaries, you access elements by referencing a unique, immutable key associated with the value. You retrieve a value by asking for its key.\n",
        " - Analogy: Retrieving an item from a dictionary is like using an index at the back of a book to go directly to the page you need. You don't have to read every page to find the information.\n",
        "\n",
        "\n",
        "\n",
        "\n",
        "\n",
        "\n",
        "\n",
        "\n",
        "\n",
        "\n",
        "\n",
        "\n",
        "\n",
        "\n",
        "\n",
        "\n",
        "\n",
        "\n",
        "\n",
        "\n",
        "\n",
        "\n",
        "\n",
        "\n",
        "\n",
        "\n",
        "\n",
        "\n",
        "\n",
        "\n",
        "\n"
      ],
      "metadata": {
        "id": "qqlmmhGHJs0Q"
      }
    },
    {
      "cell_type": "code",
      "source": [
        "#Practical Questions :-\n",
        "# queston-1 Write a code to create a string with your name and print it\n",
        "# answer-1\n",
        "name = input(\"Enter your name:\")\n",
        "print(f\"My name is {name}\")"
      ],
      "metadata": {
        "colab": {
          "base_uri": "https://localhost:8080/"
        },
        "id": "HII_A25Ij1AC",
        "outputId": "21d76057-f692-4f0c-ce8a-325ef1717f18"
      },
      "execution_count": 2,
      "outputs": [
        {
          "output_type": "stream",
          "name": "stdout",
          "text": [
            "Enter your name:abhay gupta\n",
            "My name is abhay gupta\n"
          ]
        }
      ]
    },
    {
      "cell_type": "code",
      "source": [
        "# question-2  Write a code to find the length of the string \"Hello World\"\n",
        "# answer-2\n",
        "my_string = \"Hello World\"\n",
        "string_length = len(my_string)\n",
        "print(f\"The length of the string is: {string_length}\")\n"
      ],
      "metadata": {
        "colab": {
          "base_uri": "https://localhost:8080/"
        },
        "id": "ZNaEBoGKk_2U",
        "outputId": "274394a9-3c1b-446d-e065-91dde7e1ef04"
      },
      "execution_count": 3,
      "outputs": [
        {
          "output_type": "stream",
          "name": "stdout",
          "text": [
            "The length of the string is: 11\n"
          ]
        }
      ]
    },
    {
      "cell_type": "code",
      "source": [
        "# question-3 Write a code to slice the first 3 characters from the string \"Python Programming\"\n",
        "# answer-3\n",
        "my_string = \"Python Programming\"\n",
        "sliced_string = my_string[0:3]\n",
        "print(sliced_string)"
      ],
      "metadata": {
        "colab": {
          "base_uri": "https://localhost:8080/"
        },
        "id": "bEHf2RMPmAeX",
        "outputId": "8c0798dd-d370-46f2-92ce-951adc402e09"
      },
      "execution_count": 4,
      "outputs": [
        {
          "output_type": "stream",
          "name": "stdout",
          "text": [
            "Pyt\n"
          ]
        }
      ]
    },
    {
      "cell_type": "code",
      "source": [
        "# question-4 Write a code to convert the string \"hello\" to uppercase\n",
        "# answer-4\n",
        "my_string = \"hello\"\n",
        "uppercase_string = my_string.upper()\n",
        "print(uppercase_string)"
      ],
      "metadata": {
        "colab": {
          "base_uri": "https://localhost:8080/"
        },
        "id": "8ucCuyD6mmOV",
        "outputId": "f4922231-9dde-4db4-de29-771a081e6392"
      },
      "execution_count": 5,
      "outputs": [
        {
          "output_type": "stream",
          "name": "stdout",
          "text": [
            "HELLO\n"
          ]
        }
      ]
    },
    {
      "cell_type": "code",
      "source": [
        "# question-5 Write a code to replace the word \"apple\" with \"orange\" in the string \"I like apple\"\n",
        "# answer-5\n",
        "my_string = \"I like apple\"\n",
        "new_string = my_string.replace(\"apple\", \"orange\")\n",
        "print(new_string)"
      ],
      "metadata": {
        "colab": {
          "base_uri": "https://localhost:8080/"
        },
        "id": "8H5JOnvSnLTP",
        "outputId": "3773064b-66cc-43e3-e322-d9144bbc2af3"
      },
      "execution_count": 6,
      "outputs": [
        {
          "output_type": "stream",
          "name": "stdout",
          "text": [
            "I like orange\n"
          ]
        }
      ]
    },
    {
      "cell_type": "code",
      "source": [
        "# question-6  Write a code to create a list with numbers 1 to 5 and print it\n",
        "# answer-6\n",
        "my_list = [1, 2, 3, 4, 5]\n",
        "print(my_list)\n"
      ],
      "metadata": {
        "colab": {
          "base_uri": "https://localhost:8080/"
        },
        "id": "pCAXXD9Unb9p",
        "outputId": "2e9c8f62-b01f-4cea-a4fa-797ba48bf63f"
      },
      "execution_count": 7,
      "outputs": [
        {
          "output_type": "stream",
          "name": "stdout",
          "text": [
            "[1, 2, 3, 4, 5]\n"
          ]
        }
      ]
    },
    {
      "cell_type": "code",
      "source": [
        "# question-7 Write a code to append the number 10 to the list [1, 2, 3, 4]\n",
        "#answer-7\n",
        "my_list = [1, 2, 3, 4]\n",
        "my_list.append(10)\n",
        "print(my_list)"
      ],
      "metadata": {
        "colab": {
          "base_uri": "https://localhost:8080/"
        },
        "id": "1aF9vZncnrDa",
        "outputId": "1d6fa90e-2376-43d2-fb0e-e952832a90e1"
      },
      "execution_count": 8,
      "outputs": [
        {
          "output_type": "stream",
          "name": "stdout",
          "text": [
            "[1, 2, 3, 4, 10]\n"
          ]
        }
      ]
    },
    {
      "cell_type": "code",
      "source": [
        "# question-8 Write a code to remove the number 3 from the list [1, 2, 3, 4, 5]\n",
        "# answer-8\n",
        "my_list = [1, 2, 3, 4, 5]\n",
        "my_list.remove(3)\n",
        "print(my_list)"
      ],
      "metadata": {
        "colab": {
          "base_uri": "https://localhost:8080/"
        },
        "id": "HU37290Ln76u",
        "outputId": "8aa339b1-694e-463a-a07f-3877c147b27c"
      },
      "execution_count": 9,
      "outputs": [
        {
          "output_type": "stream",
          "name": "stdout",
          "text": [
            "[1, 2, 4, 5]\n"
          ]
        }
      ]
    },
    {
      "cell_type": "code",
      "source": [
        "# question-9 Write a code to access the second element in the list ['a', 'b', 'c', 'd']\n",
        "# answer-9\n",
        "my_list = ['a', 'b', 'c', 'd']\n",
        "second_element = my_list[1]\n",
        "print(second_element)"
      ],
      "metadata": {
        "colab": {
          "base_uri": "https://localhost:8080/"
        },
        "id": "OqC7DV5uoNqU",
        "outputId": "cc28fe35-0e85-4b2b-d3bb-4434edee8b9a"
      },
      "execution_count": 10,
      "outputs": [
        {
          "output_type": "stream",
          "name": "stdout",
          "text": [
            "b\n"
          ]
        }
      ]
    },
    {
      "cell_type": "code",
      "source": [
        "#question-10 Write a code to reverse the list [10, 20, 30, 40, 50]\n",
        "# answer-10\n",
        "my_list = [10, 20, 30, 40, 50]\n",
        "reversed_list = my_list[::-1]\n",
        "print(reversed_list)"
      ],
      "metadata": {
        "colab": {
          "base_uri": "https://localhost:8080/"
        },
        "id": "iYVxUxbwoeWK",
        "outputId": "ed8a1888-e821-403d-a165-ec33a07e5910"
      },
      "execution_count": 11,
      "outputs": [
        {
          "output_type": "stream",
          "name": "stdout",
          "text": [
            "[50, 40, 30, 20, 10]\n"
          ]
        }
      ]
    },
    {
      "cell_type": "code",
      "source": [
        "# question-11 Write a code to create a tuple with the elements 100, 200, 300 and print it\n",
        "# answer-11\n",
        "my_tuple = (100, 200, 300)\n",
        "print(my_tuple)"
      ],
      "metadata": {
        "colab": {
          "base_uri": "https://localhost:8080/"
        },
        "id": "z6xPd92eornL",
        "outputId": "a29c1bd4-9fbe-4551-e307-6e6b67579c54"
      },
      "execution_count": 12,
      "outputs": [
        {
          "output_type": "stream",
          "name": "stdout",
          "text": [
            "(100, 200, 300)\n"
          ]
        }
      ]
    },
    {
      "cell_type": "code",
      "source": [
        "# question-12  Write a code to access the second-to-last element of the tuple ('red', 'green', 'blue', 'yellow')\n",
        "# answer-12\n",
        "my_tuple = ('red', 'green', 'blue', 'yellow')\n",
        "second_to_last_element = my_tuple[-2]\n",
        "print(second_to_last_element)"
      ],
      "metadata": {
        "colab": {
          "base_uri": "https://localhost:8080/"
        },
        "id": "lZwfFtM5o6fX",
        "outputId": "f917d5ed-39e4-49ef-b4ef-d3a4dea38e0f"
      },
      "execution_count": 13,
      "outputs": [
        {
          "output_type": "stream",
          "name": "stdout",
          "text": [
            "blue\n"
          ]
        }
      ]
    },
    {
      "cell_type": "code",
      "source": [
        "# question-13 Write a code to find the minimum number in the tuple (10, 20, 5, 15).\n",
        "# answer-13\n",
        "my_tuple = (10, 20, 5, 15)\n",
        "minimum_number = min(my_tuple)\n",
        "print(minimum_number)"
      ],
      "metadata": {
        "colab": {
          "base_uri": "https://localhost:8080/"
        },
        "id": "yqi1LDWapLNh",
        "outputId": "99bf7c84-9b09-4224-b514-1e05270f1c7a"
      },
      "execution_count": 14,
      "outputs": [
        {
          "output_type": "stream",
          "name": "stdout",
          "text": [
            "5\n"
          ]
        }
      ]
    },
    {
      "cell_type": "code",
      "source": [
        "# question-14  Write a code to find the index of the element \"cat\" in the tuple ('dog', 'cat', 'rabbit').\n",
        "#answer-14\n",
        "my_tuple = ('dog', 'cat', 'rabbit')\n",
        "index_of_cat = my_tuple.index('cat')\n",
        "print(index_of_cat)"
      ],
      "metadata": {
        "colab": {
          "base_uri": "https://localhost:8080/"
        },
        "id": "AjT7xLDrps8U",
        "outputId": "c2f36977-800a-4460-9571-fa9e97299a9b"
      },
      "execution_count": 15,
      "outputs": [
        {
          "output_type": "stream",
          "name": "stdout",
          "text": [
            "1\n"
          ]
        }
      ]
    },
    {
      "cell_type": "code",
      "source": [
        "# question-15 Write a code to create a tuple containing three different fruits and check if \"kiwi\" is in it\n",
        "# answer-15\n",
        "fruits_tuple = (\"apple\", \"banana\", \"cherry\")\n",
        "is_kiwi_in_tuple = \"kiwi\" in fruits_tuple\n",
        "print(is_kiwi_in_tuple)"
      ],
      "metadata": {
        "colab": {
          "base_uri": "https://localhost:8080/"
        },
        "id": "N5-xX-7JqA1I",
        "outputId": "ad2388e4-f301-4925-9e3a-83c17dc4ec6d"
      },
      "execution_count": 16,
      "outputs": [
        {
          "output_type": "stream",
          "name": "stdout",
          "text": [
            "False\n"
          ]
        }
      ]
    },
    {
      "cell_type": "code",
      "source": [
        "# question-16 Write a code to create a set with the elements 'a', 'b', 'c' and print it.\n",
        "# answer-16\n",
        "my_set = {'a', 'b', 'c'}\n",
        "print(my_set)"
      ],
      "metadata": {
        "colab": {
          "base_uri": "https://localhost:8080/"
        },
        "id": "S4jrdabBqkg0",
        "outputId": "1ead3237-0369-4c83-9b7b-c80181b9c796"
      },
      "execution_count": 17,
      "outputs": [
        {
          "output_type": "stream",
          "name": "stdout",
          "text": [
            "{'c', 'b', 'a'}\n"
          ]
        }
      ]
    },
    {
      "cell_type": "code",
      "source": [
        "# question-17 Write a code to clear all elements from the set {1, 2, 3, 4, 5}.\n",
        "# answer-17\n",
        "my_set = {1, 2, 3, 4, 5}\n",
        "my_set.clear()\n",
        "print(my_set)"
      ],
      "metadata": {
        "colab": {
          "base_uri": "https://localhost:8080/"
        },
        "id": "2p8GFsCNqzDe",
        "outputId": "3c4bce9f-6f2e-4930-ece8-bbf138575bb0"
      },
      "execution_count": 18,
      "outputs": [
        {
          "output_type": "stream",
          "name": "stdout",
          "text": [
            "set()\n"
          ]
        }
      ]
    },
    {
      "cell_type": "code",
      "source": [
        "# question-18 Write a code to remove the element 4 from the set {1, 2, 3, 4}\n",
        "# answer-18\n",
        "my_set = {1, 2, 3, 4}\n",
        "my_set.remove(4)\n",
        "print(my_set)"
      ],
      "metadata": {
        "colab": {
          "base_uri": "https://localhost:8080/"
        },
        "id": "L-6MY4QkrD1u",
        "outputId": "cc9160fa-baae-4e8b-8fd3-3e20a488e5eb"
      },
      "execution_count": 19,
      "outputs": [
        {
          "output_type": "stream",
          "name": "stdout",
          "text": [
            "{1, 2, 3}\n"
          ]
        }
      ]
    },
    {
      "cell_type": "code",
      "source": [
        "# question-19 Write a code to find the union of two sets {1, 2, 3} and {3, 4, 5}.\n",
        "# answer-19\n",
        "set1 = {1, 2, 3}\n",
        "set2 = {3, 4, 5}\n",
        "union_set = set1.union(set2)\n",
        "print(union_set)"
      ],
      "metadata": {
        "colab": {
          "base_uri": "https://localhost:8080/"
        },
        "id": "0ff5hREUrTda",
        "outputId": "a69a7e9f-0c98-4d83-ea5d-85b129375dc0"
      },
      "execution_count": 20,
      "outputs": [
        {
          "output_type": "stream",
          "name": "stdout",
          "text": [
            "{1, 2, 3, 4, 5}\n"
          ]
        }
      ]
    },
    {
      "cell_type": "code",
      "source": [
        "# question-20 Write a code to find the intersection of two sets {1, 2, 3} and {2, 3, 4}.\n",
        "# answer-20\n",
        "set1 = {1, 2, 3}\n",
        "set2 = {2, 3, 4}\n",
        "intersection_set = set1.intersection(set2)\n",
        "print(intersection_set)"
      ],
      "metadata": {
        "colab": {
          "base_uri": "https://localhost:8080/"
        },
        "id": "-mYqTm5frhue",
        "outputId": "514264a8-9403-49a2-858e-9e918fa31e67"
      },
      "execution_count": 21,
      "outputs": [
        {
          "output_type": "stream",
          "name": "stdout",
          "text": [
            "{2, 3}\n"
          ]
        }
      ]
    },
    {
      "cell_type": "code",
      "source": [
        "# question-21 Write a code to create a dictionary with the keys \"name\", \"age\", and \"city\", and print it\n",
        "# answer-20\n",
        "my_dict = {\n",
        "    \"name\": \"John\",\n",
        "    \"age\": 25,\n",
        "    \"city\": \"New York\"\n",
        "}\n",
        "print(my_dict)"
      ],
      "metadata": {
        "colab": {
          "base_uri": "https://localhost:8080/"
        },
        "id": "iHdaULh7rtIN",
        "outputId": "71a45f27-b884-4747-c9ba-8576e89b3d92"
      },
      "execution_count": 22,
      "outputs": [
        {
          "output_type": "stream",
          "name": "stdout",
          "text": [
            "{'name': 'John', 'age': 25, 'city': 'New York'}\n"
          ]
        }
      ]
    },
    {
      "cell_type": "code",
      "source": [
        "# question-22  Write a code to add a new key-value pair \"country\": \"USA\" to the dictionary {'name': 'John', 'age': 25}.\n",
        "# answer-22\n",
        "my_dict = {'name': 'John', 'age': 25}\n",
        "my_dict['country'] = 'USA'\n",
        "print(my_dict)"
      ],
      "metadata": {
        "colab": {
          "base_uri": "https://localhost:8080/"
        },
        "id": "SBjUf19mr7_u",
        "outputId": "f9632abf-3cfd-4e7e-a40f-3222f53d2185"
      },
      "execution_count": 23,
      "outputs": [
        {
          "output_type": "stream",
          "name": "stdout",
          "text": [
            "{'name': 'John', 'age': 25, 'country': 'USA'}\n"
          ]
        }
      ]
    },
    {
      "cell_type": "code",
      "source": [
        "# question-23 Write a code to access the value associated with the key \"name\" in the dictionary {'name': 'Alice', 'age': 30}\n",
        "# answer-23\n",
        "my_dict = {'name': 'Alice', 'age': 30}\n",
        "name_value = my_dict['name']\n",
        "print(name_value)"
      ],
      "metadata": {
        "colab": {
          "base_uri": "https://localhost:8080/"
        },
        "id": "TvlXibESsLVn",
        "outputId": "edd11282-a7dd-43ba-a10f-1af5bfbcaacf"
      },
      "execution_count": 24,
      "outputs": [
        {
          "output_type": "stream",
          "name": "stdout",
          "text": [
            "Alice\n"
          ]
        }
      ]
    },
    {
      "cell_type": "code",
      "source": [
        "# question-24  Write a code to remove the key \"age\" from the dictionary {'name': 'Bob', 'age': 22, 'city': 'New York'}.\n",
        "# answer-24\n",
        "my_dict = {'name': 'Bob', 'age': 22, 'city': 'New York'}\n",
        "del my_dict['age']\n",
        "print(my_dict)"
      ],
      "metadata": {
        "colab": {
          "base_uri": "https://localhost:8080/"
        },
        "id": "tM7jNVjRseGo",
        "outputId": "354dfef2-3877-43e9-eec7-4918d2dc9b18"
      },
      "execution_count": 26,
      "outputs": [
        {
          "output_type": "stream",
          "name": "stdout",
          "text": [
            "{'name': 'Bob', 'city': 'New York'}\n"
          ]
        }
      ]
    },
    {
      "cell_type": "code",
      "source": [
        "# question-25  Write a code to check if the key \"city\" exists in the dictionary {'name': 'Alice', 'city': 'Paris'}\n",
        "# answer-25\n",
        "my_dict = {'name': 'Alice', 'city': 'Paris'}\n",
        "city_exists = 'city' in my_dict\n",
        "print(city_exists)"
      ],
      "metadata": {
        "colab": {
          "base_uri": "https://localhost:8080/"
        },
        "id": "LZ4RjK6usrX9",
        "outputId": "bf74af3c-54b8-4d0f-bc28-2260d62a1ebb"
      },
      "execution_count": 27,
      "outputs": [
        {
          "output_type": "stream",
          "name": "stdout",
          "text": [
            "True\n"
          ]
        }
      ]
    },
    {
      "cell_type": "code",
      "source": [
        "# question-26 Write a code to create a list, a tuple, and a dictionary, and print them all\n",
        "# answer-26\n",
        "my_list = ['apple', 10, True, 3.14]\n",
        "my_tuple = ('banana', 20, False, 2.71)\n",
        "my_dictionary = {\n",
        "    'name': 'Alice',\n",
        "    'age': 30,\n",
        "    'city': 'New York'\n",
        "}\n",
        "print(\"List:\", my_list)\n",
        "print(\"Tuple:\", my_tuple)\n",
        "print(\"Dictionary:\", my_dictionary)"
      ],
      "metadata": {
        "colab": {
          "base_uri": "https://localhost:8080/"
        },
        "id": "Q1_r0lRKs9ZP",
        "outputId": "95e2963d-b858-4233-ff54-0a8626e7abb0"
      },
      "execution_count": 28,
      "outputs": [
        {
          "output_type": "stream",
          "name": "stdout",
          "text": [
            "List: ['apple', 10, True, 3.14]\n",
            "Tuple: ('banana', 20, False, 2.71)\n",
            "Dictionary: {'name': 'Alice', 'age': 30, 'city': 'New York'}\n"
          ]
        }
      ]
    },
    {
      "cell_type": "code",
      "source": [
        "# question-27 Write a code to create a list of 5 random numbers between 1 and 100, sort it in ascending order, and print the result.(replaced)\n",
        "# answer-27\n",
        "import random\n",
        "\n",
        "random_numbers = [random.randint(1, 100) for _ in range(5)]\n",
        "random_numbers.sort()\n",
        "print(\"Sorted List:\", random_numbers)"
      ],
      "metadata": {
        "colab": {
          "base_uri": "https://localhost:8080/"
        },
        "id": "swvGIjy5tj1t",
        "outputId": "d575057e-b513-4f8e-cf3e-d4296c63fa1a"
      },
      "execution_count": 29,
      "outputs": [
        {
          "output_type": "stream",
          "name": "stdout",
          "text": [
            "Sorted List: [10, 21, 22, 40, 92]\n"
          ]
        }
      ]
    },
    {
      "cell_type": "code",
      "source": [
        "# question-28 Write a code to create a list with strings and print the element at the third index.\n",
        "# answer-28\n",
        "my_list = ['apple', 'banana', 'cherry', 'date', 'elderberry']\n",
        "third_element = my_list[2]\n",
        "print(\"Third Element:\", third_element)"
      ],
      "metadata": {
        "colab": {
          "base_uri": "https://localhost:8080/"
        },
        "id": "Ams6VPhcueaG",
        "outputId": "cfe7d949-70aa-4db4-c679-436753b5e9e1"
      },
      "execution_count": 30,
      "outputs": [
        {
          "output_type": "stream",
          "name": "stdout",
          "text": [
            "Third Element: cherry\n"
          ]
        }
      ]
    },
    {
      "cell_type": "code",
      "source": [
        "# question-29 Write a code to combine two dictionaries into one and print the result\n",
        "# answer-29\n",
        "dict1 = {'a': 1, 'b': 2}\n",
        "dict2 = {'c': 3, 'd': 4}\n",
        "combined_dict = {**dict1, **dict2}\n",
        "print(\"Combined Dictionary:\", combined_dict)"
      ],
      "metadata": {
        "colab": {
          "base_uri": "https://localhost:8080/"
        },
        "id": "MsVC2mP0uu5_",
        "outputId": "f25e3c2f-067a-4e62-8525-2deb1cf32f0c"
      },
      "execution_count": 31,
      "outputs": [
        {
          "output_type": "stream",
          "name": "stdout",
          "text": [
            "Combined Dictionary: {'a': 1, 'b': 2, 'c': 3, 'd': 4}\n"
          ]
        }
      ]
    },
    {
      "cell_type": "code",
      "source": [
        "# question-30 Write a code to convert a list of strings into a set.\n",
        "# answer-30\n",
        "string_list = ['apple', 'banana', 'cherry', 'date', 'elderberry']\n",
        "string_set = set(string_list)\n",
        "print(\"String Set:\", string_set)"
      ],
      "metadata": {
        "colab": {
          "base_uri": "https://localhost:8080/"
        },
        "id": "ExHwxxh2u_Dq",
        "outputId": "6014e5e5-cf6a-4978-f13d-c3b9b5823ea1"
      },
      "execution_count": 32,
      "outputs": [
        {
          "output_type": "stream",
          "name": "stdout",
          "text": [
            "String Set: {'banana', 'elderberry', 'cherry', 'apple', 'date'}\n"
          ]
        }
      ]
    },
    {
      "cell_type": "code",
      "source": [],
      "metadata": {
        "id": "Oyfk_BClvYzp"
      },
      "execution_count": null,
      "outputs": []
    }
  ]
}