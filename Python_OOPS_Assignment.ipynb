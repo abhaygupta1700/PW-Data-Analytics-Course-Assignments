{
  "nbformat": 4,
  "nbformat_minor": 0,
  "metadata": {
    "colab": {
      "provenance": []
    },
    "kernelspec": {
      "name": "python3",
      "display_name": "Python 3"
    },
    "language_info": {
      "name": "python"
    }
  },
  "cells": [
    {
      "cell_type": "markdown",
      "source": [
        "Python OOPS Assignment :-\n",
        "\n",
        "Theory question answers :-\n",
        "\n",
        "Question-1 :- What is Object-Oriented Programming (OOP)?\n",
        "\n",
        "Answer-1 :- Object-Oriented Programming (OOP) is a programming paradigm that organizes software design around objects rather than functions or logic. An object is a bundle that holds both data and the methods that operate on that data. This approach helps make code more structured, reusable, and easier to maintain.\n",
        "\n",
        "In OOP, real-world concepts are represented as objects. For example, a car can be represented as an object with data such as color and model, and methods such as drive and stop.\n",
        "\n",
        "OOP is built on four fundamental principles:\n",
        "\n",
        "1. Encapsulation\n",
        "2. Abstraction\n",
        "3. Inheritance\n",
        "4. Polymorphism\n",
        "\n",
        "Question-2 :- What is a class in OOP?\n",
        "\n",
        "Answer-2 :- A class in Object-Oriented Programming is a blueprint or template for creating objects. It defines the structure and behavior that the objects will have. A class itself does not hold any data; it only describes how the data and methods should look.\n",
        "\n",
        "Think of a class as a design plan. If you have a class called Car, it might define that every car object will have attributes like brand and color and behaviors like start and stop. But the actual values for those attributes (for example, “Toyota” or “Red”) are stored in the objects created from the class.\n",
        "\n",
        "Question-3 :- What is an object in OOP?\n",
        "\n",
        "Answer-3 :- An object in Object-Oriented Programming is an instance of a class. If a class is a blueprint, then an object is the actual thing built from that blueprint.\n",
        "\n",
        "An object bundles together two things:\n",
        "\n",
        "1. Data (attributes): These store the state or properties of the object.\n",
        "\n",
        "2. Methods (functions): These define the behavior or actions the object can perform.\n",
        "\n",
        "Question-4 :-  What is the difference between abstraction and encapsulation?\n",
        "\n",
        "Answer-4 :-\n",
        " - Abstraction :- Abstraction is a mechanism for hiding the implementation details and showing only the necessary features of an object. It deals with the design level and focuses on the object's interface.\n",
        " - Encapsulation :- Encapsulation is the practice of bundling an object's data (attributes) and the methods (functions) that operate on that data into a single unit called a class. It also involves restricting direct access to an object's internal state; this is called data hiding.\n",
        "\n",
        "Question-5 :- What are dunder methods in Python?\n",
        "\n",
        "Answer-5 :-\n",
        " - Dunder methods, short for \"double underscore\" methods, are special built-in methods in Python that are surrounded by double underscores at the beginning and end of their names (e.g., __init__, __str__). They allow you to define how your custom objects behave with Python's built-in functions and operators.\n",
        "\n",
        " - You don't typically call these methods directly. Instead, Python calls them for you when you use specific syntax or functions. For example, when you use the + operator on two objects, Python looks for and calls the __add__ dunder method on those objects.\n",
        "\n",
        "Question-6 :- Explain the concept of inheritance in OOP?\n",
        "\n",
        "Answer-6 :-\n",
        " - Inheritance in Object-Oriented Programming is a concept that allows one class to acquire the properties and behaviors of another class. The class that is inherited from is called the parent class or base class, and the class that inherits is called the child class or derived class.\n",
        "\n",
        " - This concept promotes code reusability and reduces redundancy. Instead of writing the same code again, you can define common features in the parent class and extend or modify them in the child class.\n",
        "\n",
        "Question-7 :- What is polymorphism in OOP?\n",
        "\n",
        "Answer-7 :-\n",
        " - Polymorphism in Object-Oriented Programming is the ability of different objects to respond to the same method or operation in their own way. The word “polymorphism” means “many forms.”\n",
        "\n",
        " - This concept allows a single method name or operator to behave differently based on the object it is acting upon. Polymorphism makes code more flexible and easier to maintain because the same interface can be used with different types of objects.\n",
        "\n",
        "Question-8 :- How is encapsulation achieved in Python?\n",
        "\n",
        "Answer-8 :-\n",
        " - Encapsulation in Python is achieved by bundling data (attributes) and methods (functions) into a single unit, which is typically a class. It also involves restricting direct access to some of the object’s internal data to protect it from unintended modification.\n",
        "\n",
        " - In Python, encapsulation is mainly implemented through access control using naming conventions and special syntax.\n",
        "\n",
        "There are three levels of access control commonly used to achieve encapsulation:\n",
        "1. Public attributes and methods\n",
        "2. Protected attributes and methods\n",
        "3. Private attributes and methods\n",
        "\n",
        "Question-9 :- What is a constructor in Python?\n",
        "\n",
        "Answer-9 :-\n",
        " - A constructor in Python is a special method that is automatically called when a new object of a class is created. Its main purpose is to initialize the object’s attributes with default or provided values.\n",
        "\n",
        " - In Python, the constructor method is defined as __init__. The name comes from “initialize.” It is always written with double underscores because it is a dunder method.\n",
        "\n",
        "Question-10 :- What are class and static methods in Python?\n",
        "\n",
        "Asnwer-10 :-\n",
        "1. Class Methods :-\n",
        " - A class method is bound to the class and receives the class itself as its first argument, conventionally named cls. It can access and modify the state of the class, such as class-level attributes, but not the state of a specific instance.\n",
        "\n",
        " - Class methods are often used as factory methods to create instances of the class using alternative ways.\n",
        "\n",
        "2. Static Methods :-\n",
        " - A static method is essentially a regular function that is namespaced within a class. It is not bound to the class or the instance, so it doesn't receive cls or self as its first argument. Static methods cannot modify the state of the class or an instance.\n",
        "\n",
        " - They are typically used for utility functions that have a logical connection to the class but don't depend on its state.\n",
        "\n",
        "Question-11 :- What is method overloading in Python?\n",
        "\n",
        "Answer-11 :-\n",
        " - Method overloading in programming is the ability to define multiple methods with the same name but different parameters (number or type of arguments). It allows a single method name to perform different tasks based on how it is called.\n",
        "\n",
        " - In Python, traditional method overloading (like in Java or C++) is not directly supported, because Python allows only one method with a given name in a class. If you define multiple methods with the same name, the last definition will overwrite the previous ones.\n",
        "\n",
        " - However, Python provides alternative ways to achieve similar behavior:\n",
        "\n",
        " 1. Using Default Arguments\n",
        " 2. Using Variable-Length Arguments\n",
        " 3. Using Type Checking\n",
        "\n",
        "Question-12 :-  What is method overriding in OOP?\n",
        "\n",
        "Answer-12 :-\n",
        " - Method overriding in Object-Oriented Programming is when a child class provides its own implementation of a method that is already defined in its parent class. This allows the child class to modify or extend the behavior of the parent class’s method.\n",
        "\n",
        " - Method overriding is a key feature of polymorphism, as it allows the same method name to behave differently depending on the object that calls it.\n",
        "\n",
        "Question-13 :- What is a property decorator in Python?\n",
        "\n",
        "Answer-13 :-\n",
        " - A property decorator in Python is a way to define getter, setter, and deleter methods for a class attribute in a clean and readable way. It allows you to access and modify private attributes as if they were public, while still keeping control over how the data is accessed or changed.\n",
        "\n",
        " - The @property decorator is used to create a getter method, which allows you to retrieve the value of a private attribute. You can then use @<property_name>.setter to define a setter method to modify the attribute and @<property_name>.deleter to delete it.\n",
        "\n",
        "Question-14 :- Why is polymorphism important in OOP?\n",
        "\n",
        "Answer-14 :- Polymorphism is important in Object-Oriented Programming because it allows objects of different classes to be treated in a uniform way while still behaving differently based on their specific types. This makes code more flexible, reusable, and easier to maintain.\n",
        "\n",
        " 1. Simplifies Code and Interfaces\n",
        " 2. Supports Code Reusability\n",
        " 3. Facilitates Extensibility\n",
        " 4. Enables Runtime Flexibility\n",
        " 5. Improves Maintainability\n",
        " 6. Supports Abstraction and Encapsulation\n",
        "\n",
        "Question-15 :- What is an abstract class in Python?\n",
        "\n",
        "Answer-15 :- An abstract class in Python is a class that cannot be instantiated directly and is meant to be a blueprint for other classes. It defines a common interface (methods and properties) that its subclasses must implement. Abstract classes are used to enforce a certain structure in child classes, ensuring that specific methods are implemented.\n",
        "\n",
        "Question-16 :-  What are the advantages of OOP?\n",
        "\n",
        "Answer-16 :- Object-Oriented Programming (OOP) offers several advantages over procedural programming by organizing code around objects and their interactions. These advantages make software more modular, maintainable, and scalable.\n",
        "\n",
        "1. Modularity\n",
        "2. Reusability\n",
        "3. Encapsulation\n",
        "4. Abstraction\n",
        "5. Polymorphism\n",
        "6. Maintainability\n",
        "7. Extensibility\n",
        "8. Real-World Modeling\n",
        "\n",
        "Question-17 :- What is the difference between a class variable and an instance variable?\n",
        "\n",
        "Answer-17 :-\n",
        " 1. Instance Variables :-\n",
        " - An instance variable belongs only to a specific object. Its value is unique to that object and is not shared with other objects of the same class. These variables are almost always defined inside the constructor method, __init__, using the self keyword.\n",
        " 2. Class Variables :-\n",
        " - A class variable is declared inside the class but outside of any methods. It is shared among all objects of that class. If you change the value of a class variable, the change will be reflected in all instances.\n",
        "\n",
        "Question-18 :- What is multiple inheritance in Python ?\n",
        "\n",
        "Answer-18 :- Multiple inheritance in Python is a feature that allows a class to inherit attributes and methods from more than one parent class. This means a child class can combine behaviors from multiple classes, giving it greater flexibility and code reuse.\n",
        "\n",
        "Question-19 :- Explain the purpose of ‘’__str__’ and ‘__repr__’ ‘ methods in Python?\n",
        "\n",
        "answer-19 :- The __str__ and __repr__ dunder methods in Python are used to define how an object should be represented as a string. The main difference is their intended audience: __str__ is for creating a readable output for end-users, while __repr__ is for creating an unambiguous representation for developers.\n",
        "\n",
        " 1. __str__(self): For Users :-\n",
        "The purpose of __str__ is to return an \"informal\" or user-friendly string representation of an object. This is the method that Python's print() function and str() built-in function will call. You should implement this to display information in a way that is easy for a typical user to read.\n",
        " 2. __repr__(self): For Developers :-\n",
        "The purpose of __repr__ (short for \"representation\") is to return an \"official\" or developer-friendly string that is unambiguous. The goal of __repr__ is to be so descriptive that, if possible, the string could be used to recreate the object. This is what you see when you inspect an object in an interactive console.\n",
        "\n",
        "Question-20 :-  What is the significance of the ‘super()’ function in Python?\n",
        "\n",
        "Answer-20 :- The super() function in Python is used to call a method from a parent class in a child class. It is commonly used in inheritance to access parent class methods or constructors without explicitly naming the parent class. This makes code more maintainable and supports multiple inheritance through the method resolution order (MRO).\n",
        "\n",
        "Question-21 :-  What is the significance of the __del__ method in Python?\n",
        "\n",
        "Answer-21 :-\n",
        " - The __del__ method in Python is a special dunder method known as a destructor. It is called automatically when an object is about to be destroyed, usually when there are no more references to the object, and it is being garbage collected.\n",
        "\n",
        " - The main purpose of __del__ is to perform cleanup actions such as releasing external resources (files, network connections, database connections) or performing logging before the object is removed from memory.\n",
        "\n",
        "Question-22 :-  What is the difference between @staticmethod and @classmethod in Python?\n",
        "\n",
        "Answer-22 :-\n",
        " 1. @classmethod :- A class method is bound to the class, not the instance. This means it can access and modify the state of the class itself (like class variables), but not the state of a specific instance. Its most common use is for factory methods, which are methods that create instances of the class in alternative ways.\n",
        "  - First Argument: The class (cls).\n",
        "  - Decorator: @classmethod.\n",
        "  - Purpose: Works with the class. Often used for alternative constructors.\n",
        " 2. @staticmethod :- A static method is essentially a regular function that is namespaced inside a class for organizational purposes. It is not bound to the class or any instance, so it cannot access or modify the state of either. It's used for utility functions that have a logical connection to the class but don't depend on its state.\n",
        "  - First Argument: None (it takes only the arguments you pass to it).\n",
        "  - Decorator: @staticmethod.\n",
        "  - Purpose: A utility function that doesn't need class or instance state.\n",
        "\n",
        "Question-23 :-  How does polymorphism work in Python with inheritance?\n",
        "\n",
        "Answer-23 :- Polymorphism in Python with inheritance allows objects of different classes that share a common parent to be treated uniformly, while still exhibiting different behaviors based on their actual class. This is a key feature of runtime polymorphism, which is achieved primarily through method overriding.\n",
        "\n",
        "How it works :-\n",
        "\n",
        " - Inheritance allows a child class to inherit methods from a parent class.\n",
        "\n",
        " - Method overriding lets the child class provide its own implementation of a parent method.\n",
        "\n",
        " - When a method is called on a parent class reference or in a polymorphic context, Python checks the actual object type at runtime and executes the appropriate method.\n",
        "\n",
        "Question-24 :- What is method chaining in Python OOP?\n",
        "\n",
        "Answer-24 :- Method chaining in Python OOP is a programming technique where multiple methods are called on the same object sequentially in a single statement. This is possible when each method returns the object itself (self) after performing its operation. Method chaining can make code more concise, readable, and expressive, especially when performing multiple operations on the same object.\n",
        "\n",
        "Question-25 :- What is the purpose of the __call__ method in Python?\n",
        "\n",
        "Answer-25 :- The __call__ method in Python is a special dunder method that allows an object of a class to be called as if it were a function. When you define __call__ in a class, you can use its instances with parentheses () just like a regular function, and the code inside __call__ will execute.\n",
        "\n",
        "\n",
        "\n",
        "\n",
        "\n",
        "\n",
        "\n",
        "\n",
        "\n",
        "\n"
      ],
      "metadata": {
        "id": "nOws9oHn19ua"
      }
    },
    {
      "cell_type": "code",
      "source": [
        "# Practical Question Answer\n",
        "# question-1 Create a parent class Animal with a method speak() that prints a generic message. Create a child class Dog that overrides the speak() method to print \"Bark!\"?\n",
        "# answer-1\n",
        "class Animal:\n",
        "    def speak(self):\n",
        "        print(\"This animal makes a sound.\")\n",
        "\n",
        "class Dog(Animal):\n",
        "    def speak(self):\n",
        "        print(\"Bark!\")\n",
        "animal = Animal()\n",
        "dog = Dog()\n",
        "animal.speak()\n",
        "dog.speak()\n"
      ],
      "metadata": {
        "colab": {
          "base_uri": "https://localhost:8080/"
        },
        "id": "4JwSwSbl0AQo",
        "outputId": "9931a4f6-d107-423f-bdb3-d98b8b186f40"
      },
      "execution_count": 5,
      "outputs": [
        {
          "output_type": "stream",
          "name": "stdout",
          "text": [
            "This animal makes a sound.\n",
            "Bark!\n"
          ]
        }
      ]
    },
    {
      "cell_type": "code",
      "source": [
        "# question-2 Write a program to create an abstract class Shape with a method area(). Derive classes Circle and Rectangle from it and implement the area() method in both ?\n",
        "# answer-2\n",
        "from abc import ABC, abstractmethod\n",
        "import math\n",
        "class Shape(ABC):\n",
        "  def area(self):\n",
        "        pass\n",
        "class Circle(Shape):\n",
        "    def __init__(self, radius):\n",
        "        self.radius = radius\n",
        "    def area(self):\n",
        "        return math.pi * self.radius ** 2\n",
        "class Rectangle(Shape):\n",
        "    def __init__(self, length, width):\n",
        "        self.length = length\n",
        "        self.width = width\n",
        "    def area(self):\n",
        "        return self.length * self.width\n",
        "circle = Circle(5)\n",
        "rectangle = Rectangle(4, 6)\n",
        "print(f\"Area of circle: {circle.area():.2f}\")\n",
        "print(f\"Area of rectangle: {rectangle.area()}\")"
      ],
      "metadata": {
        "colab": {
          "base_uri": "https://localhost:8080/"
        },
        "id": "tJzPrK0w0mYO",
        "outputId": "2e169c9b-2944-4460-f00b-0cbdbac4ddf4"
      },
      "execution_count": 6,
      "outputs": [
        {
          "output_type": "stream",
          "name": "stdout",
          "text": [
            "Area of circle: 78.54\n",
            "Area of rectangle: 24\n"
          ]
        }
      ]
    },
    {
      "cell_type": "code",
      "source": [
        "# question-3  Implement a multi-level inheritance scenario where a class Vehicle has an attribute type. Derive a class Car and further derive a class ElectricCar that adds a battery attribute.?\n",
        "# answer-3\n",
        "class Vehicle:\n",
        "    def __init__(self, vehicle_type):\n",
        "        self.type = vehicle_type\n",
        "class Car(Vehicle):\n",
        "    def __init__(self, vehicle_type, brand):\n",
        "        super().__init__(vehicle_type)\n",
        "        self.brand = brand\n",
        "class ElectricCar(Car):\n",
        "    def __init__(self, vehicle_type, brand, battery_capacity):\n",
        "        super().__init__(vehicle_type, brand)  # Call parent constructor\n",
        "        self.battery = battery_capacity\n",
        "    def display_info(self):\n",
        "        print(f\"Type: {self.type}, Brand: {self.brand}, Battery: {self.battery} kWh\")\n",
        "my_electric_car = ElectricCar(\"Car\", \"Tesla\", 100)\n",
        "my_electric_car.display_info()\n"
      ],
      "metadata": {
        "colab": {
          "base_uri": "https://localhost:8080/"
        },
        "id": "kUten2qV2maB",
        "outputId": "c0aaa0b6-11a3-4734-e986-66221d725902"
      },
      "execution_count": 7,
      "outputs": [
        {
          "output_type": "stream",
          "name": "stdout",
          "text": [
            "Type: Car, Brand: Tesla, Battery: 100 kWh\n"
          ]
        }
      ]
    },
    {
      "cell_type": "code",
      "source": [
        "# question-4  Demonstrate polymorphism by creating a base class Bird with a method fly(). Create two derived classes Sparrow and Penguin that override the fly() method.?\n",
        "# answer-4\n",
        "class Bird:\n",
        "    def fly(self):\n",
        "        print(\"Some birds can fly.\")\n",
        "class Sparrow(Bird):\n",
        "    def fly(self):\n",
        "        print(\"Sparrow is flying high!\")\n",
        "class Penguin(Bird):\n",
        "    def fly(self):\n",
        "        print(\"Penguin cannot fly.\")\n",
        "bird = Bird()\n",
        "sparrow = Sparrow()\n",
        "penguin = Penguin()\n",
        "birds = [bird, sparrow, penguin]\n",
        "for b in birds:\n",
        "    b.fly()"
      ],
      "metadata": {
        "colab": {
          "base_uri": "https://localhost:8080/"
        },
        "id": "AF3LKJsn3_Rb",
        "outputId": "374718ba-c4b2-4bb8-ef18-1fd528265db4"
      },
      "execution_count": 8,
      "outputs": [
        {
          "output_type": "stream",
          "name": "stdout",
          "text": [
            "Some birds can fly.\n",
            "Sparrow is flying high!\n",
            "Penguin cannot fly.\n"
          ]
        }
      ]
    },
    {
      "cell_type": "code",
      "source": [
        "# question-5 Write a program to demonstrate encapsulation by creating a class BankAccount with private attributes balance and methods to deposit, withdraw, and check balance.?\n",
        "# answer-5\n",
        "class BankAccount:\n",
        "    def __init__(self, initial_balance):\n",
        "        self.__balance = initial_balance\n",
        "    def deposit(self, amount):\n",
        "        if amount > 0:\n",
        "            self.__balance += amount\n",
        "            print(f\"Deposited: {amount}\")\n",
        "        else:\n",
        "            print(\"Deposit amount must be positive.\")\n",
        "    def withdraw(self, amount):\n",
        "        if 0 < amount <= self.__balance:\n",
        "            self.__balance -= amount\n",
        "            print(f\"Withdrawn: {amount}\")\n",
        "        else:\n",
        "            print(\"Insufficient balance or invalid amount.\")\n",
        "    def check_balance(self):\n",
        "        print(f\"Current balance: {self.__balance}\")\n",
        "account = BankAccount(1000)\n",
        "account.check_balance()\n",
        "account.deposit(500)\n",
        "account.check_balance()\n",
        "account.withdraw(700)\n",
        "account.check_balance()"
      ],
      "metadata": {
        "colab": {
          "base_uri": "https://localhost:8080/"
        },
        "id": "34xQKL7Y4yh1",
        "outputId": "e7ecca1d-d2f0-4993-862b-48524fe04060"
      },
      "execution_count": 9,
      "outputs": [
        {
          "output_type": "stream",
          "name": "stdout",
          "text": [
            "Current balance: 1000\n",
            "Deposited: 500\n",
            "Current balance: 1500\n",
            "Withdrawn: 700\n",
            "Current balance: 800\n"
          ]
        }
      ]
    },
    {
      "cell_type": "code",
      "source": [
        "# question-6 Demonstrate runtime polymorphism using a method play() in a base class Instrument. Derive classes Guitar and Piano that implement their own version of play().?\n",
        "# answer-6\n",
        "class Instrument:\n",
        "    def play(self):\n",
        "        print(\"This instrument is playing.\")\n",
        "class Guitar(Instrument):\n",
        "    def play(self):\n",
        "        print(\"Guitar is strumming chords!\")\n",
        "class Piano(Instrument):\n",
        "    def play(self):\n",
        "        print(\"Piano is playing a melody!\")\n",
        "instrument = Instrument()\n",
        "guitar = Guitar()\n",
        "piano = Piano()\n",
        "instruments = [instrument, guitar, piano]\n",
        "for instr in instruments:\n",
        "    instr.play()"
      ],
      "metadata": {
        "colab": {
          "base_uri": "https://localhost:8080/"
        },
        "id": "ox70XF-k6M_B",
        "outputId": "66a1acd6-a573-40e3-ad77-eb60b2034996"
      },
      "execution_count": 10,
      "outputs": [
        {
          "output_type": "stream",
          "name": "stdout",
          "text": [
            "This instrument is playing.\n",
            "Guitar is strumming chords!\n",
            "Piano is playing a melody!\n"
          ]
        }
      ]
    },
    {
      "cell_type": "code",
      "source": [
        "# question-7 Create a class MathOperations with a class method add_numbers() to add two numbers and a static method subtract_numbers() to subtract two numbers.?\n",
        "# answer-7\n",
        "class MathOperations:\n",
        "    @classmethod\n",
        "    def add_numbers(cls, a, b):\n",
        "        return a + b\n",
        "    @staticmethod\n",
        "    def subtract_numbers(a, b):\n",
        "        return a - b\n",
        "sum_result = MathOperations.add_numbers(10, 5)\n",
        "print(f\"Sum: {sum_result}\")\n",
        "difference_result = MathOperations.subtract_numbers(10, 5)\n",
        "print(f\"Difference: {difference_result}\")\n",
        "math_obj = MathOperations()\n",
        "print(math_obj.add_numbers(7, 3))\n",
        "print(math_obj.subtract_numbers(7, 3))\n"
      ],
      "metadata": {
        "colab": {
          "base_uri": "https://localhost:8080/"
        },
        "id": "Cd1lYHwj62nd",
        "outputId": "1fc3419a-8944-4f15-9118-cfc7daafbe4e"
      },
      "execution_count": 11,
      "outputs": [
        {
          "output_type": "stream",
          "name": "stdout",
          "text": [
            "Sum: 15\n",
            "Difference: 5\n",
            "10\n",
            "4\n"
          ]
        }
      ]
    },
    {
      "cell_type": "code",
      "source": [
        "# question-8  Implement a class Person with a class method to count the total number of persons created.?\n",
        "# answer-8\n",
        "class Person:\n",
        "    total_persons = 0\n",
        "    def __init__(self, name, age):\n",
        "        self.name = name\n",
        "        self.age = age\n",
        "        Person.total_persons += 1\n",
        "    @classmethod\n",
        "    def get_total_persons(cls):\n",
        "        return cls.total_persons\n",
        "person1 = Person(\"Alice\", 25)\n",
        "person2 = Person(\"Bob\", 30)\n",
        "person3 = Person(\"Charlie\", 22)\n",
        "print(f\"Total persons created: {Person.get_total_persons()}\")"
      ],
      "metadata": {
        "colab": {
          "base_uri": "https://localhost:8080/"
        },
        "id": "uobYqrl-7v2l",
        "outputId": "2c917197-5c53-4774-968a-830a6a2e130b"
      },
      "execution_count": 12,
      "outputs": [
        {
          "output_type": "stream",
          "name": "stdout",
          "text": [
            "Total persons created: 3\n"
          ]
        }
      ]
    },
    {
      "cell_type": "code",
      "source": [
        "# question-9 Write a class Fraction with attributes numerator and denominator. Override the str method to display the fraction as \"numerator/denominator\".?\n",
        "# answer-9\n",
        "class Fraction:\n",
        "    def __init__(self, numerator, denominator):\n",
        "        self.numerator = numerator\n",
        "        self.denominator = denominator\n",
        "    def __str__(self):\n",
        "        return f\"{self.numerator}/{self.denominator}\"\n",
        "frac1 = Fraction(3, 4)\n",
        "frac2 = Fraction(5, 8)\n",
        "print(frac1)\n",
        "print(frac2)\n",
        "\n"
      ],
      "metadata": {
        "colab": {
          "base_uri": "https://localhost:8080/"
        },
        "id": "hochF_z-8bVl",
        "outputId": "33d470f4-7add-45ea-8e84-cc14185d02d2"
      },
      "execution_count": 13,
      "outputs": [
        {
          "output_type": "stream",
          "name": "stdout",
          "text": [
            "3/4\n",
            "5/8\n"
          ]
        }
      ]
    },
    {
      "cell_type": "code",
      "source": [
        "# question-10  Demonstrate operator overloading by creating a class Vector and overriding the add method to add two vectors.?\n",
        "# answer-10\n",
        "class Vector:\n",
        "    def __init__(self, x, y):\n",
        "        self.x = x\n",
        "        self.y = y\n",
        "    def __add__(self, other):\n",
        "        return Vector(self.x + other.x, self.y + other.y)\n",
        "    def __str__(self):\n",
        "        return f\"({self.x}, {self.y})\"\n",
        "v1 = Vector(2, 3)\n",
        "v2 = Vector(4, 5)\n",
        "v3 = v1 + v2\n",
        "print(v3)"
      ],
      "metadata": {
        "colab": {
          "base_uri": "https://localhost:8080/"
        },
        "id": "i9sqNf2A9Fq-",
        "outputId": "07e462ef-c610-41d8-ad36-3848140ce745"
      },
      "execution_count": 15,
      "outputs": [
        {
          "output_type": "stream",
          "name": "stdout",
          "text": [
            "(6, 8)\n"
          ]
        }
      ]
    },
    {
      "cell_type": "code",
      "source": [
        "# question-11  Create a class Person with attributes name and age. Add a method greet() that prints \"Hello, my name is {name} and I am {age} years old.\"?\n",
        "# answer-11\n",
        "class Person:\n",
        "    def __init__(self, name, age):\n",
        "        self.name = name\n",
        "        self.age = age\n",
        "    def greet(self):\n",
        "        print(f\"Hello, my name is {self.name} and I am {self.age} years old.\")\n",
        "person1 = Person(\"Abhay\", 24)\n",
        "person2 = Person(\"Rishabh\", 30)\n",
        "person1.greet()\n",
        "person2.greet()"
      ],
      "metadata": {
        "colab": {
          "base_uri": "https://localhost:8080/"
        },
        "id": "PSAhZgI29ciz",
        "outputId": "611ab2fb-4e53-42de-932b-cfd303ff8ec0"
      },
      "execution_count": 19,
      "outputs": [
        {
          "output_type": "stream",
          "name": "stdout",
          "text": [
            "Hello, my name is Abhay and I am 24 years old.\n",
            "Hello, my name is Rishabh and I am 30 years old.\n"
          ]
        }
      ]
    },
    {
      "cell_type": "code",
      "source": [
        "# question-12 Implement a class Student with attributes name and grades. Create a method average_grade() to compute the average of the grades.?\n",
        "# answer-12\n",
        "class Student:\n",
        "    def __init__(self, name, grades):\n",
        "        self.name = name\n",
        "        self.grades = grades\n",
        "    def average_grade(self):\n",
        "        if len(self.grades) == 0:\n",
        "            return 0\n",
        "        return sum(self.grades) / len(self.grades)\n",
        "student1 = Student(\"Abhay\", [85, 90, 78, 92])\n",
        "student2 = Student(\"Rishabh\", [70, 80, 75])\n",
        "print(f\"{student1.name}'s average grade: {student1.average_grade():.2f}\")\n",
        "print(f\"{student2.name}'s average grade: {student2.average_grade():.2f}\")"
      ],
      "metadata": {
        "colab": {
          "base_uri": "https://localhost:8080/"
        },
        "id": "St18TAL__Njr",
        "outputId": "f6079f43-0f80-4749-bc9e-4374a7baf73f"
      },
      "execution_count": 20,
      "outputs": [
        {
          "output_type": "stream",
          "name": "stdout",
          "text": [
            "Abhay's average grade: 86.25\n",
            "Rishabh's average grade: 75.00\n"
          ]
        }
      ]
    },
    {
      "cell_type": "code",
      "source": [
        "# question-13  Create a class Rectangle with methods set_dimensions() to set the dimensions and area() to calculate the area.?\n",
        "# answer-13\n",
        "class Rectangle:\n",
        "    def __init__(self):\n",
        "        self.length = 0\n",
        "        self.width = 0\n",
        "    def set_dimensions(self, length, width):\n",
        "        self.length = length\n",
        "        self.width = width\n",
        "    def area(self):\n",
        "        return self.length * self.width\n",
        "rect = Rectangle()\n",
        "rect.set_dimensions(5, 3)\n",
        "print(f\"Area of the rectangle: {rect.area()}\")"
      ],
      "metadata": {
        "colab": {
          "base_uri": "https://localhost:8080/"
        },
        "id": "dr0OEOzu_l3L",
        "outputId": "b6dc2eb6-d963-4057-f0cf-5b3de52cf0db"
      },
      "execution_count": 21,
      "outputs": [
        {
          "output_type": "stream",
          "name": "stdout",
          "text": [
            "Area of the rectangle: 15\n"
          ]
        }
      ]
    },
    {
      "cell_type": "code",
      "source": [
        "# question-14 Create a class Employee with a method calculate_salary() that computes the salary based on hours worked and hourly rate. Create a derived class Manager that adds a bonus to the salary.?\n",
        "# answer-14\n",
        "class Employee:\n",
        "    def __init__(self, name, hours_worked, hourly_rate):\n",
        "        self.name = name\n",
        "        self.hours_worked = hours_worked\n",
        "        self.hourly_rate = hourly_rate\n",
        "    def calculate_salary(self):\n",
        "        return self.hours_worked * self.hourly_rate\n",
        "class Manager(Employee):\n",
        "    def __init__(self, name, hours_worked, hourly_rate, bonus):\n",
        "        super().__init__(name, hours_worked, hourly_rate)\n",
        "        self.bonus = bonus\n",
        "    def calculate_salary(self):\n",
        "        base_salary = super().calculate_salary()\n",
        "        return base_salary + self.bonus\n",
        "employee = Employee(\"Rishabh\", 40, 20)\n",
        "manager = Manager(\"Abhay\", 40, 25, 500)\n",
        "print(f\"{employee.name}'s salary: ${employee.calculate_salary()}\")\n",
        "print(f\"{manager.name}'s salary: ${manager.calculate_salary()}\")"
      ],
      "metadata": {
        "colab": {
          "base_uri": "https://localhost:8080/"
        },
        "id": "uohQzlMuAm1z",
        "outputId": "da2f3166-f1a0-4575-d465-612b9ac8a13c"
      },
      "execution_count": 27,
      "outputs": [
        {
          "output_type": "stream",
          "name": "stdout",
          "text": [
            "Rishabh's salary: $800\n",
            "Abhay's salary: $1500\n"
          ]
        }
      ]
    },
    {
      "cell_type": "code",
      "source": [
        "# question-15  Create a class Product with attributes name, price, and quantity. Implement a method total_price() that calculates the total price of the product.?\n",
        "# answer-15\n",
        "class Product:\n",
        "    def __init__(self, name, price, quantity):\n",
        "        self.name = name\n",
        "        self.price = price\n",
        "        self.quantity = quantity\n",
        "    def total_price(self):\n",
        "        return self.price * self.quantity\n",
        "product1 = Product(\"Laptop\", 800, 2)\n",
        "product2 = Product(\"Mouse\", 25, 5)\n",
        "print(f\"Total price of {product1.name}: ${product1.total_price()}\")\n",
        "print(f\"Total price of {product2.name}: ${product2.total_price()}\")"
      ],
      "metadata": {
        "colab": {
          "base_uri": "https://localhost:8080/"
        },
        "id": "GKVBdpyyBYnE",
        "outputId": "7837afba-88d7-465c-a90d-b1d0183c3a17"
      },
      "execution_count": 28,
      "outputs": [
        {
          "output_type": "stream",
          "name": "stdout",
          "text": [
            "Total price of Laptop: $1600\n",
            "Total price of Mouse: $125\n"
          ]
        }
      ]
    },
    {
      "cell_type": "code",
      "source": [
        "# question-16 . Create a class Animal with an abstract method sound(). Create two derived classes Cow and Sheep that implement the sound() method.?\n",
        "# answer-16\n",
        "from abc import ABC, abstractmethod\n",
        "class Animal(ABC):\n",
        "    @abstractmethod\n",
        "    def sound(self):\n",
        "        pass\n",
        "class Cow(Animal):\n",
        "    def sound(self):\n",
        "        print(\"Cow says Moo!\")\n",
        "class Sheep(Animal):\n",
        "    def sound(self):\n",
        "        print(\"Sheep says Baa!\")\n",
        "cow = Cow()\n",
        "sheep = Sheep()\n",
        "cow.sound()\n",
        "sheep.sound()"
      ],
      "metadata": {
        "colab": {
          "base_uri": "https://localhost:8080/"
        },
        "id": "1BLOWiTYCaUi",
        "outputId": "48b07eb4-c309-468c-c27c-50d5399c1179"
      },
      "execution_count": 29,
      "outputs": [
        {
          "output_type": "stream",
          "name": "stdout",
          "text": [
            "Cow says Moo!\n",
            "Sheep says Baa!\n"
          ]
        }
      ]
    },
    {
      "cell_type": "code",
      "source": [
        "# question-17 Create a class Book with attributes title, author, and year_published. Add a method get_book_info() that returns a formatted string with the book's details.?\n",
        "# answer-17\n",
        "class Book:\n",
        "    def __init__(self, title, author, year_published):\n",
        "        self.title = title\n",
        "        self.author = author\n",
        "        self.year_published = year_published\n",
        "    def get_book_info(self):\n",
        "        return f\"Title: {self.title}, Author: {self.author}, Year Published: {self.year_published}\"\n",
        "book1 = Book(\"1984\", \"George Orwell\", 1949)\n",
        "book2 = Book(\"To Kill a Mockingbird\", \"Harper Lee\", 1960)\n",
        "print(book1.get_book_info())\n",
        "print(book2.get_book_info())"
      ],
      "metadata": {
        "colab": {
          "base_uri": "https://localhost:8080/"
        },
        "id": "J2Tb2EIhDKfJ",
        "outputId": "1a62ccf4-73b1-42bc-f13f-1d27c818b371"
      },
      "execution_count": 30,
      "outputs": [
        {
          "output_type": "stream",
          "name": "stdout",
          "text": [
            "Title: 1984, Author: George Orwell, Year Published: 1949\n",
            "Title: To Kill a Mockingbird, Author: Harper Lee, Year Published: 1960\n"
          ]
        }
      ]
    },
    {
      "cell_type": "code",
      "source": [
        "# question-18 Create a class House with attributes address and price. Create a derived class Mansion that adds an attribute number_of_rooms?\n",
        "# answer-18\n",
        "class House:\n",
        "    def __init__(self, address, price):\n",
        "        self.address = address\n",
        "        self.price = price\n",
        "class Mansion(House):\n",
        "    def __init__(self, address, price, number_of_rooms):\n",
        "        super().__init__(address, price)\n",
        "        self.number_of_rooms = number_of_rooms\n",
        "    def display_info(self):\n",
        "        print(f\"Address: {self.address}, Price: ${self.price}, Rooms: {self.number_of_rooms}\")\n",
        "house = House(\"359 shiv shakti nagar\", 25000)\n",
        "mansion = Mansion(\"319 shastri nagar\", 150000, 10)\n",
        "print(f\"House Address: {house.address}, Price: ${house.price}\")\n",
        "mansion.display_info()"
      ],
      "metadata": {
        "colab": {
          "base_uri": "https://localhost:8080/"
        },
        "id": "vV5Z7lnlDqAO",
        "outputId": "92a4614b-19f9-4fa0-df70-f0a75e140c67"
      },
      "execution_count": 34,
      "outputs": [
        {
          "output_type": "stream",
          "name": "stdout",
          "text": [
            "House Address: 359 shiv shakti nagar, Price: $25000\n",
            "Address: 319 shastri nagar, Price: $150000, Rooms: 10\n"
          ]
        }
      ]
    },
    {
      "cell_type": "code",
      "source": [],
      "metadata": {
        "id": "gG5k0jWlEQ6S"
      },
      "execution_count": null,
      "outputs": []
    }
  ]
}